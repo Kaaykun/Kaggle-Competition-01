{
 "cells": [
  {
   "cell_type": "markdown",
   "metadata": {},
   "source": [
    "## 1. Notebook Preparation"
   ]
  },
  {
   "cell_type": "markdown",
   "metadata": {},
   "source": [
    "### Import dependencies"
   ]
  },
  {
   "cell_type": "code",
   "execution_count": 257,
   "metadata": {},
   "outputs": [],
   "source": [
    "# General libraries\n",
    "import os\n",
    "import zipfile\n",
    "import numpy as np\n",
    "import pandas as pd\n",
    "import matplotlib.pyplot as plt\n",
    "\n",
    "# Kaggle API\n",
    "from kaggle.api.kaggle_api_extended import KaggleApi\n",
    "\n",
    "# Sklearn\n",
    "from sklearn.preprocessing import LabelEncoder, StandardScaler, MinMaxScaler\n",
    "from sklearn.model_selection import RepeatedStratifiedKFold\n",
    "from sklearn.ensemble import VotingClassifier\n",
    "from sklearn.metrics import roc_auc_score\n",
    "\n",
    "# Classifier models\n",
    "from lightgbm import LGBMClassifier\n",
    "from xgboost import XGBClassifier\n",
    "from catboost import CatBoostClassifier\n"
   ]
  },
  {
   "cell_type": "markdown",
   "metadata": {},
   "source": [
    "### Initialize constants and paths"
   ]
  },
  {
   "cell_type": "code",
   "execution_count": 5,
   "metadata": {},
   "outputs": [],
   "source": [
    "# Data\n",
    "COMPETITION_NAME = 'playground-series-s4e1'\n",
    "ORIGINAL_DATASET = 'shubhammeshram579/bank-customer-churn-prediction'\n",
    "\n",
    "# Paths\n",
    "MAIN_PATH = os.path.abspath(os.path.join(os.getcwd(), '..', 'data'))"
   ]
  },
  {
   "cell_type": "markdown",
   "metadata": {},
   "source": [
    "### Download the competition files"
   ]
  },
  {
   "cell_type": "code",
   "execution_count": 6,
   "metadata": {},
   "outputs": [],
   "source": [
    "if not os.path.exists(MAIN_PATH):\n",
    "    os.makedirs(MAIN_PATH, exist_ok=True)\n",
    "\n",
    "    api = KaggleApi()\n",
    "    api.authenticate()\n",
    "\n",
    "    # Download the dataset to the local folder and unzip\n",
    "    api.dataset_download_files(ORIGINAL_DATASET, path=MAIN_PATH, unzip=True)\n",
    "    api.competition_download_files(COMPETITION_NAME, path=MAIN_PATH)\n",
    "\n",
    "    zip_file_path = os.path.join(MAIN_PATH, f'{COMPETITION_NAME}.zip')\n",
    "\n",
    "    with zipfile.ZipFile(zip_file_path, 'r') as zip_ref:\n",
    "        zip_ref.extractall(MAIN_PATH)\n",
    "\n",
    "    os.remove(zip_file_path)"
   ]
  },
  {
   "cell_type": "markdown",
   "metadata": {},
   "source": [
    "## 2. Load Data"
   ]
  },
  {
   "cell_type": "code",
   "execution_count": 7,
   "metadata": {},
   "outputs": [],
   "source": [
    "original_data = pd.read_csv(f'{MAIN_PATH}/Churn_Modelling.csv')\n",
    "\n",
    "df_train = pd.read_csv(f'{MAIN_PATH}/train.csv')\n",
    "df_test = pd.read_csv(f'{MAIN_PATH}/test.csv')\n",
    "\n",
    "submission = pd.read_csv(f'{MAIN_PATH}/sample_submission.csv')"
   ]
  },
  {
   "cell_type": "markdown",
   "metadata": {},
   "source": [
    "## 3. Data Exploration & Upsizing Train Set"
   ]
  },
  {
   "cell_type": "markdown",
   "metadata": {},
   "source": [
    "#### The dataset includes the following features:\n",
    "- **Customer ID:** A unique identifier for each customer\n",
    "- **Surname:** The customer's surname or last name\n",
    "- **Credit Score:** A numerical value representing the customer's credit score\n",
    "- **Geography:** The country where the customer resides (France, Spain or Germany)\n",
    "- **Gender:** The customer's gender (Male or Female)\n",
    "- **Age:** The customer's age.\n",
    "- **Tenure:** The number of years the customer has been with the bank\n",
    "- **Balance:** The customer's account balance\n",
    "- **NumOfProducts:** The number of bank products the customer uses (e.g., savings account, credit card)\n",
    "- **HasCrCard:** Whether the customer has a credit card (1 = yes, 0 = no)\n",
    "- **IsActiveMember:** Whether the customer is an active member (1 = yes, 0 = no)\n",
    "- **EstimatedSalary:** The estimated salary of the customer\n",
    "- **Exited:** Whether the customer has churned (1 = yes, 0 = no)"
   ]
  },
  {
   "cell_type": "markdown",
   "metadata": {},
   "source": [
    "### Exploration: Original Data"
   ]
  },
  {
   "cell_type": "code",
   "execution_count": 8,
   "metadata": {},
   "outputs": [
    {
     "data": {
      "text/plain": [
       "(10002, 14)"
      ]
     },
     "execution_count": 8,
     "metadata": {},
     "output_type": "execute_result"
    }
   ],
   "source": [
    "original_data.shape"
   ]
  },
  {
   "cell_type": "code",
   "execution_count": 9,
   "metadata": {},
   "outputs": [
    {
     "data": {
      "text/html": [
       "<div>\n",
       "<style scoped>\n",
       "    .dataframe tbody tr th:only-of-type {\n",
       "        vertical-align: middle;\n",
       "    }\n",
       "\n",
       "    .dataframe tbody tr th {\n",
       "        vertical-align: top;\n",
       "    }\n",
       "\n",
       "    .dataframe thead th {\n",
       "        text-align: right;\n",
       "    }\n",
       "</style>\n",
       "<table border=\"1\" class=\"dataframe\">\n",
       "  <thead>\n",
       "    <tr style=\"text-align: right;\">\n",
       "      <th></th>\n",
       "      <th>RowNumber</th>\n",
       "      <th>CustomerId</th>\n",
       "      <th>Surname</th>\n",
       "      <th>CreditScore</th>\n",
       "      <th>Geography</th>\n",
       "      <th>Gender</th>\n",
       "      <th>Age</th>\n",
       "      <th>Tenure</th>\n",
       "      <th>Balance</th>\n",
       "      <th>NumOfProducts</th>\n",
       "      <th>HasCrCard</th>\n",
       "      <th>IsActiveMember</th>\n",
       "      <th>EstimatedSalary</th>\n",
       "      <th>Exited</th>\n",
       "    </tr>\n",
       "  </thead>\n",
       "  <tbody>\n",
       "    <tr>\n",
       "      <th>0</th>\n",
       "      <td>1</td>\n",
       "      <td>15634602</td>\n",
       "      <td>Hargrave</td>\n",
       "      <td>619</td>\n",
       "      <td>France</td>\n",
       "      <td>Female</td>\n",
       "      <td>42.0</td>\n",
       "      <td>2</td>\n",
       "      <td>0.00</td>\n",
       "      <td>1</td>\n",
       "      <td>1.0</td>\n",
       "      <td>1.0</td>\n",
       "      <td>101348.88</td>\n",
       "      <td>1</td>\n",
       "    </tr>\n",
       "    <tr>\n",
       "      <th>1</th>\n",
       "      <td>2</td>\n",
       "      <td>15647311</td>\n",
       "      <td>Hill</td>\n",
       "      <td>608</td>\n",
       "      <td>Spain</td>\n",
       "      <td>Female</td>\n",
       "      <td>41.0</td>\n",
       "      <td>1</td>\n",
       "      <td>83807.86</td>\n",
       "      <td>1</td>\n",
       "      <td>0.0</td>\n",
       "      <td>1.0</td>\n",
       "      <td>112542.58</td>\n",
       "      <td>0</td>\n",
       "    </tr>\n",
       "    <tr>\n",
       "      <th>2</th>\n",
       "      <td>3</td>\n",
       "      <td>15619304</td>\n",
       "      <td>Onio</td>\n",
       "      <td>502</td>\n",
       "      <td>France</td>\n",
       "      <td>Female</td>\n",
       "      <td>42.0</td>\n",
       "      <td>8</td>\n",
       "      <td>159660.80</td>\n",
       "      <td>3</td>\n",
       "      <td>1.0</td>\n",
       "      <td>0.0</td>\n",
       "      <td>113931.57</td>\n",
       "      <td>1</td>\n",
       "    </tr>\n",
       "    <tr>\n",
       "      <th>3</th>\n",
       "      <td>4</td>\n",
       "      <td>15701354</td>\n",
       "      <td>Boni</td>\n",
       "      <td>699</td>\n",
       "      <td>France</td>\n",
       "      <td>Female</td>\n",
       "      <td>39.0</td>\n",
       "      <td>1</td>\n",
       "      <td>0.00</td>\n",
       "      <td>2</td>\n",
       "      <td>0.0</td>\n",
       "      <td>0.0</td>\n",
       "      <td>93826.63</td>\n",
       "      <td>0</td>\n",
       "    </tr>\n",
       "    <tr>\n",
       "      <th>4</th>\n",
       "      <td>5</td>\n",
       "      <td>15737888</td>\n",
       "      <td>Mitchell</td>\n",
       "      <td>850</td>\n",
       "      <td>Spain</td>\n",
       "      <td>Female</td>\n",
       "      <td>43.0</td>\n",
       "      <td>2</td>\n",
       "      <td>125510.82</td>\n",
       "      <td>1</td>\n",
       "      <td>NaN</td>\n",
       "      <td>1.0</td>\n",
       "      <td>79084.10</td>\n",
       "      <td>0</td>\n",
       "    </tr>\n",
       "  </tbody>\n",
       "</table>\n",
       "</div>"
      ],
      "text/plain": [
       "   RowNumber  CustomerId   Surname  CreditScore Geography  Gender   Age  \\\n",
       "0          1    15634602  Hargrave          619    France  Female  42.0   \n",
       "1          2    15647311      Hill          608     Spain  Female  41.0   \n",
       "2          3    15619304      Onio          502    France  Female  42.0   \n",
       "3          4    15701354      Boni          699    France  Female  39.0   \n",
       "4          5    15737888  Mitchell          850     Spain  Female  43.0   \n",
       "\n",
       "   Tenure    Balance  NumOfProducts  HasCrCard  IsActiveMember  \\\n",
       "0       2       0.00              1        1.0             1.0   \n",
       "1       1   83807.86              1        0.0             1.0   \n",
       "2       8  159660.80              3        1.0             0.0   \n",
       "3       1       0.00              2        0.0             0.0   \n",
       "4       2  125510.82              1        NaN             1.0   \n",
       "\n",
       "   EstimatedSalary  Exited  \n",
       "0        101348.88       1  \n",
       "1        112542.58       0  \n",
       "2        113931.57       1  \n",
       "3         93826.63       0  \n",
       "4         79084.10       0  "
      ]
     },
     "execution_count": 9,
     "metadata": {},
     "output_type": "execute_result"
    }
   ],
   "source": [
    "original_data.head()"
   ]
  },
  {
   "cell_type": "code",
   "execution_count": 10,
   "metadata": {},
   "outputs": [
    {
     "data": {
      "text/plain": [
       "2"
      ]
     },
     "execution_count": 10,
     "metadata": {},
     "output_type": "execute_result"
    }
   ],
   "source": [
    "original_data.duplicated().sum()"
   ]
  },
  {
   "cell_type": "code",
   "execution_count": 11,
   "metadata": {},
   "outputs": [
    {
     "data": {
      "text/plain": [
       "RowNumber          0\n",
       "CustomerId         0\n",
       "Surname            0\n",
       "CreditScore        0\n",
       "Geography          1\n",
       "Gender             0\n",
       "Age                1\n",
       "Tenure             0\n",
       "Balance            0\n",
       "NumOfProducts      0\n",
       "HasCrCard          1\n",
       "IsActiveMember     1\n",
       "EstimatedSalary    0\n",
       "Exited             0\n",
       "dtype: int64"
      ]
     },
     "execution_count": 11,
     "metadata": {},
     "output_type": "execute_result"
    }
   ],
   "source": [
    "original_data.isna().sum()"
   ]
  },
  {
   "cell_type": "markdown",
   "metadata": {},
   "source": [
    "### Exploration: Train Set"
   ]
  },
  {
   "cell_type": "code",
   "execution_count": 12,
   "metadata": {},
   "outputs": [
    {
     "data": {
      "text/plain": [
       "(165034, 14)"
      ]
     },
     "execution_count": 12,
     "metadata": {},
     "output_type": "execute_result"
    }
   ],
   "source": [
    "df_train.shape"
   ]
  },
  {
   "cell_type": "code",
   "execution_count": 13,
   "metadata": {},
   "outputs": [
    {
     "data": {
      "text/html": [
       "<div>\n",
       "<style scoped>\n",
       "    .dataframe tbody tr th:only-of-type {\n",
       "        vertical-align: middle;\n",
       "    }\n",
       "\n",
       "    .dataframe tbody tr th {\n",
       "        vertical-align: top;\n",
       "    }\n",
       "\n",
       "    .dataframe thead th {\n",
       "        text-align: right;\n",
       "    }\n",
       "</style>\n",
       "<table border=\"1\" class=\"dataframe\">\n",
       "  <thead>\n",
       "    <tr style=\"text-align: right;\">\n",
       "      <th></th>\n",
       "      <th>id</th>\n",
       "      <th>CustomerId</th>\n",
       "      <th>Surname</th>\n",
       "      <th>CreditScore</th>\n",
       "      <th>Geography</th>\n",
       "      <th>Gender</th>\n",
       "      <th>Age</th>\n",
       "      <th>Tenure</th>\n",
       "      <th>Balance</th>\n",
       "      <th>NumOfProducts</th>\n",
       "      <th>HasCrCard</th>\n",
       "      <th>IsActiveMember</th>\n",
       "      <th>EstimatedSalary</th>\n",
       "      <th>Exited</th>\n",
       "    </tr>\n",
       "  </thead>\n",
       "  <tbody>\n",
       "    <tr>\n",
       "      <th>0</th>\n",
       "      <td>0</td>\n",
       "      <td>15674932</td>\n",
       "      <td>Okwudilichukwu</td>\n",
       "      <td>668</td>\n",
       "      <td>France</td>\n",
       "      <td>Male</td>\n",
       "      <td>33.0</td>\n",
       "      <td>3</td>\n",
       "      <td>0.00</td>\n",
       "      <td>2</td>\n",
       "      <td>1.0</td>\n",
       "      <td>0.0</td>\n",
       "      <td>181449.97</td>\n",
       "      <td>0</td>\n",
       "    </tr>\n",
       "    <tr>\n",
       "      <th>1</th>\n",
       "      <td>1</td>\n",
       "      <td>15749177</td>\n",
       "      <td>Okwudiliolisa</td>\n",
       "      <td>627</td>\n",
       "      <td>France</td>\n",
       "      <td>Male</td>\n",
       "      <td>33.0</td>\n",
       "      <td>1</td>\n",
       "      <td>0.00</td>\n",
       "      <td>2</td>\n",
       "      <td>1.0</td>\n",
       "      <td>1.0</td>\n",
       "      <td>49503.50</td>\n",
       "      <td>0</td>\n",
       "    </tr>\n",
       "    <tr>\n",
       "      <th>2</th>\n",
       "      <td>2</td>\n",
       "      <td>15694510</td>\n",
       "      <td>Hsueh</td>\n",
       "      <td>678</td>\n",
       "      <td>France</td>\n",
       "      <td>Male</td>\n",
       "      <td>40.0</td>\n",
       "      <td>10</td>\n",
       "      <td>0.00</td>\n",
       "      <td>2</td>\n",
       "      <td>1.0</td>\n",
       "      <td>0.0</td>\n",
       "      <td>184866.69</td>\n",
       "      <td>0</td>\n",
       "    </tr>\n",
       "    <tr>\n",
       "      <th>3</th>\n",
       "      <td>3</td>\n",
       "      <td>15741417</td>\n",
       "      <td>Kao</td>\n",
       "      <td>581</td>\n",
       "      <td>France</td>\n",
       "      <td>Male</td>\n",
       "      <td>34.0</td>\n",
       "      <td>2</td>\n",
       "      <td>148882.54</td>\n",
       "      <td>1</td>\n",
       "      <td>1.0</td>\n",
       "      <td>1.0</td>\n",
       "      <td>84560.88</td>\n",
       "      <td>0</td>\n",
       "    </tr>\n",
       "    <tr>\n",
       "      <th>4</th>\n",
       "      <td>4</td>\n",
       "      <td>15766172</td>\n",
       "      <td>Chiemenam</td>\n",
       "      <td>716</td>\n",
       "      <td>Spain</td>\n",
       "      <td>Male</td>\n",
       "      <td>33.0</td>\n",
       "      <td>5</td>\n",
       "      <td>0.00</td>\n",
       "      <td>2</td>\n",
       "      <td>1.0</td>\n",
       "      <td>1.0</td>\n",
       "      <td>15068.83</td>\n",
       "      <td>0</td>\n",
       "    </tr>\n",
       "  </tbody>\n",
       "</table>\n",
       "</div>"
      ],
      "text/plain": [
       "   id  CustomerId         Surname  CreditScore Geography Gender   Age  Tenure  \\\n",
       "0   0    15674932  Okwudilichukwu          668    France   Male  33.0       3   \n",
       "1   1    15749177   Okwudiliolisa          627    France   Male  33.0       1   \n",
       "2   2    15694510           Hsueh          678    France   Male  40.0      10   \n",
       "3   3    15741417             Kao          581    France   Male  34.0       2   \n",
       "4   4    15766172       Chiemenam          716     Spain   Male  33.0       5   \n",
       "\n",
       "     Balance  NumOfProducts  HasCrCard  IsActiveMember  EstimatedSalary  \\\n",
       "0       0.00              2        1.0             0.0        181449.97   \n",
       "1       0.00              2        1.0             1.0         49503.50   \n",
       "2       0.00              2        1.0             0.0        184866.69   \n",
       "3  148882.54              1        1.0             1.0         84560.88   \n",
       "4       0.00              2        1.0             1.0         15068.83   \n",
       "\n",
       "   Exited  \n",
       "0       0  \n",
       "1       0  \n",
       "2       0  \n",
       "3       0  \n",
       "4       0  "
      ]
     },
     "execution_count": 13,
     "metadata": {},
     "output_type": "execute_result"
    }
   ],
   "source": [
    "df_train.head()"
   ]
  },
  {
   "cell_type": "code",
   "execution_count": 14,
   "metadata": {},
   "outputs": [
    {
     "data": {
      "text/plain": [
       "0"
      ]
     },
     "execution_count": 14,
     "metadata": {},
     "output_type": "execute_result"
    }
   ],
   "source": [
    "df_train.duplicated().sum()"
   ]
  },
  {
   "cell_type": "code",
   "execution_count": 15,
   "metadata": {},
   "outputs": [
    {
     "data": {
      "text/plain": [
       "id                 0\n",
       "CustomerId         0\n",
       "Surname            0\n",
       "CreditScore        0\n",
       "Geography          0\n",
       "Gender             0\n",
       "Age                0\n",
       "Tenure             0\n",
       "Balance            0\n",
       "NumOfProducts      0\n",
       "HasCrCard          0\n",
       "IsActiveMember     0\n",
       "EstimatedSalary    0\n",
       "Exited             0\n",
       "dtype: int64"
      ]
     },
     "execution_count": 15,
     "metadata": {},
     "output_type": "execute_result"
    }
   ],
   "source": [
    "df_train.isna().sum()"
   ]
  },
  {
   "cell_type": "markdown",
   "metadata": {},
   "source": [
    "### Exploration: Test Set"
   ]
  },
  {
   "cell_type": "code",
   "execution_count": 16,
   "metadata": {},
   "outputs": [
    {
     "data": {
      "text/plain": [
       "(110023, 13)"
      ]
     },
     "execution_count": 16,
     "metadata": {},
     "output_type": "execute_result"
    }
   ],
   "source": [
    "df_test.shape"
   ]
  },
  {
   "cell_type": "code",
   "execution_count": 17,
   "metadata": {},
   "outputs": [
    {
     "data": {
      "text/html": [
       "<div>\n",
       "<style scoped>\n",
       "    .dataframe tbody tr th:only-of-type {\n",
       "        vertical-align: middle;\n",
       "    }\n",
       "\n",
       "    .dataframe tbody tr th {\n",
       "        vertical-align: top;\n",
       "    }\n",
       "\n",
       "    .dataframe thead th {\n",
       "        text-align: right;\n",
       "    }\n",
       "</style>\n",
       "<table border=\"1\" class=\"dataframe\">\n",
       "  <thead>\n",
       "    <tr style=\"text-align: right;\">\n",
       "      <th></th>\n",
       "      <th>id</th>\n",
       "      <th>CustomerId</th>\n",
       "      <th>Surname</th>\n",
       "      <th>CreditScore</th>\n",
       "      <th>Geography</th>\n",
       "      <th>Gender</th>\n",
       "      <th>Age</th>\n",
       "      <th>Tenure</th>\n",
       "      <th>Balance</th>\n",
       "      <th>NumOfProducts</th>\n",
       "      <th>HasCrCard</th>\n",
       "      <th>IsActiveMember</th>\n",
       "      <th>EstimatedSalary</th>\n",
       "    </tr>\n",
       "  </thead>\n",
       "  <tbody>\n",
       "    <tr>\n",
       "      <th>0</th>\n",
       "      <td>165034</td>\n",
       "      <td>15773898</td>\n",
       "      <td>Lucchese</td>\n",
       "      <td>586</td>\n",
       "      <td>France</td>\n",
       "      <td>Female</td>\n",
       "      <td>23.0</td>\n",
       "      <td>2</td>\n",
       "      <td>0.00</td>\n",
       "      <td>2</td>\n",
       "      <td>0.0</td>\n",
       "      <td>1.0</td>\n",
       "      <td>160976.75</td>\n",
       "    </tr>\n",
       "    <tr>\n",
       "      <th>1</th>\n",
       "      <td>165035</td>\n",
       "      <td>15782418</td>\n",
       "      <td>Nott</td>\n",
       "      <td>683</td>\n",
       "      <td>France</td>\n",
       "      <td>Female</td>\n",
       "      <td>46.0</td>\n",
       "      <td>2</td>\n",
       "      <td>0.00</td>\n",
       "      <td>1</td>\n",
       "      <td>1.0</td>\n",
       "      <td>0.0</td>\n",
       "      <td>72549.27</td>\n",
       "    </tr>\n",
       "    <tr>\n",
       "      <th>2</th>\n",
       "      <td>165036</td>\n",
       "      <td>15807120</td>\n",
       "      <td>K?</td>\n",
       "      <td>656</td>\n",
       "      <td>France</td>\n",
       "      <td>Female</td>\n",
       "      <td>34.0</td>\n",
       "      <td>7</td>\n",
       "      <td>0.00</td>\n",
       "      <td>2</td>\n",
       "      <td>1.0</td>\n",
       "      <td>0.0</td>\n",
       "      <td>138882.09</td>\n",
       "    </tr>\n",
       "    <tr>\n",
       "      <th>3</th>\n",
       "      <td>165037</td>\n",
       "      <td>15808905</td>\n",
       "      <td>O'Donnell</td>\n",
       "      <td>681</td>\n",
       "      <td>France</td>\n",
       "      <td>Male</td>\n",
       "      <td>36.0</td>\n",
       "      <td>8</td>\n",
       "      <td>0.00</td>\n",
       "      <td>1</td>\n",
       "      <td>1.0</td>\n",
       "      <td>0.0</td>\n",
       "      <td>113931.57</td>\n",
       "    </tr>\n",
       "    <tr>\n",
       "      <th>4</th>\n",
       "      <td>165038</td>\n",
       "      <td>15607314</td>\n",
       "      <td>Higgins</td>\n",
       "      <td>752</td>\n",
       "      <td>Germany</td>\n",
       "      <td>Male</td>\n",
       "      <td>38.0</td>\n",
       "      <td>10</td>\n",
       "      <td>121263.62</td>\n",
       "      <td>1</td>\n",
       "      <td>1.0</td>\n",
       "      <td>0.0</td>\n",
       "      <td>139431.00</td>\n",
       "    </tr>\n",
       "  </tbody>\n",
       "</table>\n",
       "</div>"
      ],
      "text/plain": [
       "       id  CustomerId    Surname  CreditScore Geography  Gender   Age  Tenure  \\\n",
       "0  165034    15773898   Lucchese          586    France  Female  23.0       2   \n",
       "1  165035    15782418       Nott          683    France  Female  46.0       2   \n",
       "2  165036    15807120         K?          656    France  Female  34.0       7   \n",
       "3  165037    15808905  O'Donnell          681    France    Male  36.0       8   \n",
       "4  165038    15607314    Higgins          752   Germany    Male  38.0      10   \n",
       "\n",
       "     Balance  NumOfProducts  HasCrCard  IsActiveMember  EstimatedSalary  \n",
       "0       0.00              2        0.0             1.0        160976.75  \n",
       "1       0.00              1        1.0             0.0         72549.27  \n",
       "2       0.00              2        1.0             0.0        138882.09  \n",
       "3       0.00              1        1.0             0.0        113931.57  \n",
       "4  121263.62              1        1.0             0.0        139431.00  "
      ]
     },
     "execution_count": 17,
     "metadata": {},
     "output_type": "execute_result"
    }
   ],
   "source": [
    "df_test.head()"
   ]
  },
  {
   "cell_type": "code",
   "execution_count": 18,
   "metadata": {},
   "outputs": [
    {
     "data": {
      "text/plain": [
       "0"
      ]
     },
     "execution_count": 18,
     "metadata": {},
     "output_type": "execute_result"
    }
   ],
   "source": [
    "df_test.duplicated().sum()"
   ]
  },
  {
   "cell_type": "code",
   "execution_count": 19,
   "metadata": {},
   "outputs": [
    {
     "data": {
      "text/plain": [
       "id                 0\n",
       "CustomerId         0\n",
       "Surname            0\n",
       "CreditScore        0\n",
       "Geography          0\n",
       "Gender             0\n",
       "Age                0\n",
       "Tenure             0\n",
       "Balance            0\n",
       "NumOfProducts      0\n",
       "HasCrCard          0\n",
       "IsActiveMember     0\n",
       "EstimatedSalary    0\n",
       "dtype: int64"
      ]
     },
     "execution_count": 19,
     "metadata": {},
     "output_type": "execute_result"
    }
   ],
   "source": [
    "df_test.isna().sum()"
   ]
  },
  {
   "cell_type": "markdown",
   "metadata": {},
   "source": [
    "### Exploration: Sample Submission\n"
   ]
  },
  {
   "cell_type": "code",
   "execution_count": 20,
   "metadata": {},
   "outputs": [
    {
     "data": {
      "text/html": [
       "<div>\n",
       "<style scoped>\n",
       "    .dataframe tbody tr th:only-of-type {\n",
       "        vertical-align: middle;\n",
       "    }\n",
       "\n",
       "    .dataframe tbody tr th {\n",
       "        vertical-align: top;\n",
       "    }\n",
       "\n",
       "    .dataframe thead th {\n",
       "        text-align: right;\n",
       "    }\n",
       "</style>\n",
       "<table border=\"1\" class=\"dataframe\">\n",
       "  <thead>\n",
       "    <tr style=\"text-align: right;\">\n",
       "      <th></th>\n",
       "      <th>id</th>\n",
       "      <th>Exited</th>\n",
       "    </tr>\n",
       "  </thead>\n",
       "  <tbody>\n",
       "    <tr>\n",
       "      <th>0</th>\n",
       "      <td>165034</td>\n",
       "      <td>0.5</td>\n",
       "    </tr>\n",
       "    <tr>\n",
       "      <th>1</th>\n",
       "      <td>165035</td>\n",
       "      <td>0.5</td>\n",
       "    </tr>\n",
       "    <tr>\n",
       "      <th>2</th>\n",
       "      <td>165036</td>\n",
       "      <td>0.5</td>\n",
       "    </tr>\n",
       "    <tr>\n",
       "      <th>3</th>\n",
       "      <td>165037</td>\n",
       "      <td>0.5</td>\n",
       "    </tr>\n",
       "    <tr>\n",
       "      <th>4</th>\n",
       "      <td>165038</td>\n",
       "      <td>0.5</td>\n",
       "    </tr>\n",
       "  </tbody>\n",
       "</table>\n",
       "</div>"
      ],
      "text/plain": [
       "       id  Exited\n",
       "0  165034     0.5\n",
       "1  165035     0.5\n",
       "2  165036     0.5\n",
       "3  165037     0.5\n",
       "4  165038     0.5"
      ]
     },
     "execution_count": 20,
     "metadata": {},
     "output_type": "execute_result"
    }
   ],
   "source": [
    "submission.head()"
   ]
  },
  {
   "cell_type": "markdown",
   "metadata": {},
   "source": [
    "### Upsizing Train Set\n",
    "#### The provided train set from the competition is a synthetically-generated datasets that is based on the Churn Modelling dataset - also available on Kaggle. To improve model performance I am adding the original data to the competition data, as a larger training set helps the model extract information more reliably."
   ]
  },
  {
   "cell_type": "code",
   "execution_count": 21,
   "metadata": {},
   "outputs": [],
   "source": [
    "# Remove the ID / RowNumber column\n",
    "df_train = df_train.drop(\"id\", axis=1)\n",
    "original_data = original_data.drop(\"RowNumber\", axis=1)"
   ]
  },
  {
   "cell_type": "code",
   "execution_count": 22,
   "metadata": {},
   "outputs": [],
   "source": [
    "# Add original data to the train set\n",
    "df_train = pd.concat([df_train, original_data], axis=0)"
   ]
  },
  {
   "cell_type": "code",
   "execution_count": 23,
   "metadata": {},
   "outputs": [
    {
     "data": {
      "text/plain": [
       "(175036, 13)"
      ]
     },
     "execution_count": 23,
     "metadata": {},
     "output_type": "execute_result"
    }
   ],
   "source": [
    "df_train.shape\n"
   ]
  },
  {
   "cell_type": "code",
   "execution_count": 24,
   "metadata": {},
   "outputs": [
    {
     "data": {
      "text/plain": [
       "2"
      ]
     },
     "execution_count": 24,
     "metadata": {},
     "output_type": "execute_result"
    }
   ],
   "source": [
    "df_train.duplicated().sum()\n"
   ]
  },
  {
   "cell_type": "code",
   "execution_count": 25,
   "metadata": {},
   "outputs": [
    {
     "data": {
      "text/plain": [
       "CustomerId         0\n",
       "Surname            0\n",
       "CreditScore        0\n",
       "Geography          1\n",
       "Gender             0\n",
       "Age                1\n",
       "Tenure             0\n",
       "Balance            0\n",
       "NumOfProducts      0\n",
       "HasCrCard          1\n",
       "IsActiveMember     1\n",
       "EstimatedSalary    0\n",
       "Exited             0\n",
       "dtype: int64"
      ]
     },
     "execution_count": 25,
     "metadata": {},
     "output_type": "execute_result"
    }
   ],
   "source": [
    "df_train.isna().sum()\n"
   ]
  },
  {
   "cell_type": "markdown",
   "metadata": {},
   "source": [
    "#### There are some duplicated rows in the now upsized train set, as well as some rows with missing values:\n",
    "\n",
    "- The duplicated rows will be dropped to keep each row unique.\n",
    "- For the missing values, there are two options:\n",
    "  - Impute the missing data\n",
    "  - Drop the rows with missing data\n",
    "\n",
    "####  Since there is a negligible number of rows that have missing values, I chose to drop these as well."
   ]
  },
  {
   "cell_type": "code",
   "execution_count": 26,
   "metadata": {},
   "outputs": [],
   "source": [
    "df_train = df_train.drop_duplicates().dropna()\n"
   ]
  },
  {
   "cell_type": "code",
   "execution_count": 27,
   "metadata": {},
   "outputs": [
    {
     "data": {
      "text/plain": [
       "0"
      ]
     },
     "execution_count": 27,
     "metadata": {},
     "output_type": "execute_result"
    }
   ],
   "source": [
    "df_train.duplicated().sum()\n"
   ]
  },
  {
   "cell_type": "code",
   "execution_count": 28,
   "metadata": {},
   "outputs": [
    {
     "data": {
      "text/plain": [
       "CustomerId         0\n",
       "Surname            0\n",
       "CreditScore        0\n",
       "Geography          0\n",
       "Gender             0\n",
       "Age                0\n",
       "Tenure             0\n",
       "Balance            0\n",
       "NumOfProducts      0\n",
       "HasCrCard          0\n",
       "IsActiveMember     0\n",
       "EstimatedSalary    0\n",
       "Exited             0\n",
       "dtype: int64"
      ]
     },
     "execution_count": 28,
     "metadata": {},
     "output_type": "execute_result"
    }
   ],
   "source": [
    "df_train.isna().sum()"
   ]
  },
  {
   "cell_type": "markdown",
   "metadata": {},
   "source": [
    "### Exploration: Categorical Features"
   ]
  },
  {
   "cell_type": "code",
   "execution_count": 29,
   "metadata": {},
   "outputs": [],
   "source": [
    "categorical_data = df_train.select_dtypes(exclude=[np.number])"
   ]
  },
  {
   "cell_type": "code",
   "execution_count": 30,
   "metadata": {},
   "outputs": [
    {
     "data": {
      "text/html": [
       "<div>\n",
       "<style scoped>\n",
       "    .dataframe tbody tr th:only-of-type {\n",
       "        vertical-align: middle;\n",
       "    }\n",
       "\n",
       "    .dataframe tbody tr th {\n",
       "        vertical-align: top;\n",
       "    }\n",
       "\n",
       "    .dataframe thead th {\n",
       "        text-align: right;\n",
       "    }\n",
       "</style>\n",
       "<table border=\"1\" class=\"dataframe\">\n",
       "  <thead>\n",
       "    <tr style=\"text-align: right;\">\n",
       "      <th></th>\n",
       "      <th>Surname</th>\n",
       "      <th>Geography</th>\n",
       "      <th>Gender</th>\n",
       "    </tr>\n",
       "  </thead>\n",
       "  <tbody>\n",
       "    <tr>\n",
       "      <th>0</th>\n",
       "      <td>Okwudilichukwu</td>\n",
       "      <td>France</td>\n",
       "      <td>Male</td>\n",
       "    </tr>\n",
       "    <tr>\n",
       "      <th>1</th>\n",
       "      <td>Okwudiliolisa</td>\n",
       "      <td>France</td>\n",
       "      <td>Male</td>\n",
       "    </tr>\n",
       "    <tr>\n",
       "      <th>2</th>\n",
       "      <td>Hsueh</td>\n",
       "      <td>France</td>\n",
       "      <td>Male</td>\n",
       "    </tr>\n",
       "    <tr>\n",
       "      <th>3</th>\n",
       "      <td>Kao</td>\n",
       "      <td>France</td>\n",
       "      <td>Male</td>\n",
       "    </tr>\n",
       "    <tr>\n",
       "      <th>4</th>\n",
       "      <td>Chiemenam</td>\n",
       "      <td>Spain</td>\n",
       "      <td>Male</td>\n",
       "    </tr>\n",
       "  </tbody>\n",
       "</table>\n",
       "</div>"
      ],
      "text/plain": [
       "          Surname Geography Gender\n",
       "0  Okwudilichukwu    France   Male\n",
       "1   Okwudiliolisa    France   Male\n",
       "2           Hsueh    France   Male\n",
       "3             Kao    France   Male\n",
       "4       Chiemenam     Spain   Male"
      ]
     },
     "execution_count": 30,
     "metadata": {},
     "output_type": "execute_result"
    }
   ],
   "source": [
    "categorical_data.head()"
   ]
  },
  {
   "cell_type": "markdown",
   "metadata": {},
   "source": [
    "#### The surname feature is really not important to our model (and it's technically not categorical), so I'll drop it."
   ]
  },
  {
   "cell_type": "code",
   "execution_count": 31,
   "metadata": {},
   "outputs": [
    {
     "data": {
      "text/html": [
       "<div>\n",
       "<style scoped>\n",
       "    .dataframe tbody tr th:only-of-type {\n",
       "        vertical-align: middle;\n",
       "    }\n",
       "\n",
       "    .dataframe tbody tr th {\n",
       "        vertical-align: top;\n",
       "    }\n",
       "\n",
       "    .dataframe thead th {\n",
       "        text-align: right;\n",
       "    }\n",
       "</style>\n",
       "<table border=\"1\" class=\"dataframe\">\n",
       "  <thead>\n",
       "    <tr style=\"text-align: right;\">\n",
       "      <th></th>\n",
       "      <th>Geography</th>\n",
       "      <th>Gender</th>\n",
       "    </tr>\n",
       "  </thead>\n",
       "  <tbody>\n",
       "    <tr>\n",
       "      <th>0</th>\n",
       "      <td>France</td>\n",
       "      <td>Male</td>\n",
       "    </tr>\n",
       "    <tr>\n",
       "      <th>1</th>\n",
       "      <td>France</td>\n",
       "      <td>Male</td>\n",
       "    </tr>\n",
       "    <tr>\n",
       "      <th>2</th>\n",
       "      <td>France</td>\n",
       "      <td>Male</td>\n",
       "    </tr>\n",
       "    <tr>\n",
       "      <th>3</th>\n",
       "      <td>France</td>\n",
       "      <td>Male</td>\n",
       "    </tr>\n",
       "    <tr>\n",
       "      <th>4</th>\n",
       "      <td>Spain</td>\n",
       "      <td>Male</td>\n",
       "    </tr>\n",
       "  </tbody>\n",
       "</table>\n",
       "</div>"
      ],
      "text/plain": [
       "  Geography Gender\n",
       "0    France   Male\n",
       "1    France   Male\n",
       "2    France   Male\n",
       "3    France   Male\n",
       "4     Spain   Male"
      ]
     },
     "execution_count": 31,
     "metadata": {},
     "output_type": "execute_result"
    }
   ],
   "source": [
    "categorical_data = categorical_data.drop(\"Surname\", axis=1)\n",
    "categorical_data.head()"
   ]
  },
  {
   "cell_type": "markdown",
   "metadata": {},
   "source": [
    "### Exploration: Numerical Features"
   ]
  },
  {
   "cell_type": "code",
   "execution_count": 32,
   "metadata": {},
   "outputs": [],
   "source": [
    "numeric_data = df_train.select_dtypes(include=[np.number])\n"
   ]
  },
  {
   "cell_type": "code",
   "execution_count": 33,
   "metadata": {},
   "outputs": [
    {
     "data": {
      "text/html": [
       "<div>\n",
       "<style scoped>\n",
       "    .dataframe tbody tr th:only-of-type {\n",
       "        vertical-align: middle;\n",
       "    }\n",
       "\n",
       "    .dataframe tbody tr th {\n",
       "        vertical-align: top;\n",
       "    }\n",
       "\n",
       "    .dataframe thead th {\n",
       "        text-align: right;\n",
       "    }\n",
       "</style>\n",
       "<table border=\"1\" class=\"dataframe\">\n",
       "  <thead>\n",
       "    <tr style=\"text-align: right;\">\n",
       "      <th></th>\n",
       "      <th>CustomerId</th>\n",
       "      <th>CreditScore</th>\n",
       "      <th>Age</th>\n",
       "      <th>Tenure</th>\n",
       "      <th>Balance</th>\n",
       "      <th>NumOfProducts</th>\n",
       "      <th>HasCrCard</th>\n",
       "      <th>IsActiveMember</th>\n",
       "      <th>EstimatedSalary</th>\n",
       "      <th>Exited</th>\n",
       "    </tr>\n",
       "  </thead>\n",
       "  <tbody>\n",
       "    <tr>\n",
       "      <th>0</th>\n",
       "      <td>15674932</td>\n",
       "      <td>668</td>\n",
       "      <td>33.0</td>\n",
       "      <td>3</td>\n",
       "      <td>0.00</td>\n",
       "      <td>2</td>\n",
       "      <td>1.0</td>\n",
       "      <td>0.0</td>\n",
       "      <td>181449.97</td>\n",
       "      <td>0</td>\n",
       "    </tr>\n",
       "    <tr>\n",
       "      <th>1</th>\n",
       "      <td>15749177</td>\n",
       "      <td>627</td>\n",
       "      <td>33.0</td>\n",
       "      <td>1</td>\n",
       "      <td>0.00</td>\n",
       "      <td>2</td>\n",
       "      <td>1.0</td>\n",
       "      <td>1.0</td>\n",
       "      <td>49503.50</td>\n",
       "      <td>0</td>\n",
       "    </tr>\n",
       "    <tr>\n",
       "      <th>2</th>\n",
       "      <td>15694510</td>\n",
       "      <td>678</td>\n",
       "      <td>40.0</td>\n",
       "      <td>10</td>\n",
       "      <td>0.00</td>\n",
       "      <td>2</td>\n",
       "      <td>1.0</td>\n",
       "      <td>0.0</td>\n",
       "      <td>184866.69</td>\n",
       "      <td>0</td>\n",
       "    </tr>\n",
       "    <tr>\n",
       "      <th>3</th>\n",
       "      <td>15741417</td>\n",
       "      <td>581</td>\n",
       "      <td>34.0</td>\n",
       "      <td>2</td>\n",
       "      <td>148882.54</td>\n",
       "      <td>1</td>\n",
       "      <td>1.0</td>\n",
       "      <td>1.0</td>\n",
       "      <td>84560.88</td>\n",
       "      <td>0</td>\n",
       "    </tr>\n",
       "    <tr>\n",
       "      <th>4</th>\n",
       "      <td>15766172</td>\n",
       "      <td>716</td>\n",
       "      <td>33.0</td>\n",
       "      <td>5</td>\n",
       "      <td>0.00</td>\n",
       "      <td>2</td>\n",
       "      <td>1.0</td>\n",
       "      <td>1.0</td>\n",
       "      <td>15068.83</td>\n",
       "      <td>0</td>\n",
       "    </tr>\n",
       "  </tbody>\n",
       "</table>\n",
       "</div>"
      ],
      "text/plain": [
       "   CustomerId  CreditScore   Age  Tenure    Balance  NumOfProducts  HasCrCard  \\\n",
       "0    15674932          668  33.0       3       0.00              2        1.0   \n",
       "1    15749177          627  33.0       1       0.00              2        1.0   \n",
       "2    15694510          678  40.0      10       0.00              2        1.0   \n",
       "3    15741417          581  34.0       2  148882.54              1        1.0   \n",
       "4    15766172          716  33.0       5       0.00              2        1.0   \n",
       "\n",
       "   IsActiveMember  EstimatedSalary  Exited  \n",
       "0             0.0        181449.97       0  \n",
       "1             1.0         49503.50       0  \n",
       "2             0.0        184866.69       0  \n",
       "3             1.0         84560.88       0  \n",
       "4             1.0         15068.83       0  "
      ]
     },
     "execution_count": 33,
     "metadata": {},
     "output_type": "execute_result"
    }
   ],
   "source": [
    "numeric_data.head()\n"
   ]
  },
  {
   "cell_type": "code",
   "execution_count": 34,
   "metadata": {},
   "outputs": [
    {
     "data": {
      "text/html": [
       "<style type=\"text/css\">\n",
       "#T_ff10a_row0_col0, #T_ff10a_row1_col1, #T_ff10a_row2_col2, #T_ff10a_row3_col3, #T_ff10a_row4_col4, #T_ff10a_row5_col5, #T_ff10a_row6_col6, #T_ff10a_row7_col7, #T_ff10a_row8_col8, #T_ff10a_row9_col9 {\n",
       "  background-color: #b40426;\n",
       "  color: #f1f1f1;\n",
       "}\n",
       "#T_ff10a_row0_col1, #T_ff10a_row4_col1 {\n",
       "  background-color: #445acc;\n",
       "  color: #f1f1f1;\n",
       "}\n",
       "#T_ff10a_row0_col2 {\n",
       "  background-color: #5673e0;\n",
       "  color: #f1f1f1;\n",
       "}\n",
       "#T_ff10a_row0_col3, #T_ff10a_row1_col0, #T_ff10a_row1_col6, #T_ff10a_row2_col1 {\n",
       "  background-color: #3f53c6;\n",
       "  color: #f1f1f1;\n",
       "}\n",
       "#T_ff10a_row0_col4, #T_ff10a_row3_col4 {\n",
       "  background-color: #8fb1fe;\n",
       "  color: #000000;\n",
       "}\n",
       "#T_ff10a_row0_col5, #T_ff10a_row1_col4, #T_ff10a_row3_col5, #T_ff10a_row6_col5, #T_ff10a_row8_col4 {\n",
       "  background-color: #93b5fe;\n",
       "  color: #000000;\n",
       "}\n",
       "#T_ff10a_row0_col6, #T_ff10a_row0_col8, #T_ff10a_row2_col0, #T_ff10a_row4_col8, #T_ff10a_row5_col0, #T_ff10a_row6_col8, #T_ff10a_row7_col3, #T_ff10a_row8_col0 {\n",
       "  background-color: #3e51c5;\n",
       "  color: #f1f1f1;\n",
       "}\n",
       "#T_ff10a_row0_col7 {\n",
       "  background-color: #7093f3;\n",
       "  color: #f1f1f1;\n",
       "}\n",
       "#T_ff10a_row0_col9 {\n",
       "  background-color: #6e90f2;\n",
       "  color: #f1f1f1;\n",
       "}\n",
       "#T_ff10a_row1_col2, #T_ff10a_row3_col2 {\n",
       "  background-color: #536edd;\n",
       "  color: #f1f1f1;\n",
       "}\n",
       "#T_ff10a_row1_col3, #T_ff10a_row8_col3 {\n",
       "  background-color: #4055c8;\n",
       "  color: #f1f1f1;\n",
       "}\n",
       "#T_ff10a_row1_col5 {\n",
       "  background-color: #94b6ff;\n",
       "  color: #000000;\n",
       "}\n",
       "#T_ff10a_row1_col7, #T_ff10a_row8_col9 {\n",
       "  background-color: #7699f6;\n",
       "  color: #f1f1f1;\n",
       "}\n",
       "#T_ff10a_row1_col8, #T_ff10a_row2_col3, #T_ff10a_row2_col6, #T_ff10a_row3_col8, #T_ff10a_row4_col3 {\n",
       "  background-color: #3d50c3;\n",
       "  color: #f1f1f1;\n",
       "}\n",
       "#T_ff10a_row1_col9 {\n",
       "  background-color: #6a8bef;\n",
       "  color: #f1f1f1;\n",
       "}\n",
       "#T_ff10a_row2_col4 {\n",
       "  background-color: #a2c1ff;\n",
       "  color: #000000;\n",
       "}\n",
       "#T_ff10a_row2_col5 {\n",
       "  background-color: #799cf8;\n",
       "  color: #f1f1f1;\n",
       "}\n",
       "#T_ff10a_row2_col7 {\n",
       "  background-color: #7396f5;\n",
       "  color: #f1f1f1;\n",
       "}\n",
       "#T_ff10a_row2_col8, #T_ff10a_row4_col0, #T_ff10a_row4_col5, #T_ff10a_row4_col6, #T_ff10a_row5_col2, #T_ff10a_row5_col4, #T_ff10a_row5_col9, #T_ff10a_row6_col0, #T_ff10a_row7_col6, #T_ff10a_row7_col8, #T_ff10a_row7_col9, #T_ff10a_row9_col0, #T_ff10a_row9_col1, #T_ff10a_row9_col3, #T_ff10a_row9_col6, #T_ff10a_row9_col7 {\n",
       "  background-color: #3b4cc0;\n",
       "  color: #f1f1f1;\n",
       "}\n",
       "#T_ff10a_row2_col9 {\n",
       "  background-color: #cfdaea;\n",
       "  color: #000000;\n",
       "}\n",
       "#T_ff10a_row3_col0, #T_ff10a_row5_col8, #T_ff10a_row7_col0 {\n",
       "  background-color: #3c4ec2;\n",
       "  color: #f1f1f1;\n",
       "}\n",
       "#T_ff10a_row3_col1 {\n",
       "  background-color: #4358cb;\n",
       "  color: #f1f1f1;\n",
       "}\n",
       "#T_ff10a_row3_col6, #T_ff10a_row5_col3, #T_ff10a_row5_col6, #T_ff10a_row6_col1, #T_ff10a_row6_col3, #T_ff10a_row8_col1, #T_ff10a_row8_col6, #T_ff10a_row9_col8 {\n",
       "  background-color: #4257c9;\n",
       "  color: #f1f1f1;\n",
       "}\n",
       "#T_ff10a_row3_col7, #T_ff10a_row8_col7 {\n",
       "  background-color: #6f92f3;\n",
       "  color: #f1f1f1;\n",
       "}\n",
       "#T_ff10a_row3_col9, #T_ff10a_row6_col7, #T_ff10a_row6_col9 {\n",
       "  background-color: #6b8df0;\n",
       "  color: #f1f1f1;\n",
       "}\n",
       "#T_ff10a_row4_col2 {\n",
       "  background-color: #688aef;\n",
       "  color: #f1f1f1;\n",
       "}\n",
       "#T_ff10a_row4_col7 {\n",
       "  background-color: #6c8ff1;\n",
       "  color: #f1f1f1;\n",
       "}\n",
       "#T_ff10a_row4_col9 {\n",
       "  background-color: #97b8ff;\n",
       "  color: #000000;\n",
       "}\n",
       "#T_ff10a_row5_col1 {\n",
       "  background-color: #455cce;\n",
       "  color: #f1f1f1;\n",
       "}\n",
       "#T_ff10a_row5_col7 {\n",
       "  background-color: #7b9ff9;\n",
       "  color: #f1f1f1;\n",
       "}\n",
       "#T_ff10a_row6_col2 {\n",
       "  background-color: #516ddb;\n",
       "  color: #f1f1f1;\n",
       "}\n",
       "#T_ff10a_row6_col4 {\n",
       "  background-color: #8caffe;\n",
       "  color: #000000;\n",
       "}\n",
       "#T_ff10a_row7_col1 {\n",
       "  background-color: #465ecf;\n",
       "  color: #f1f1f1;\n",
       "}\n",
       "#T_ff10a_row7_col2 {\n",
       "  background-color: #5875e1;\n",
       "  color: #f1f1f1;\n",
       "}\n",
       "#T_ff10a_row7_col4 {\n",
       "  background-color: #8db0fe;\n",
       "  color: #000000;\n",
       "}\n",
       "#T_ff10a_row7_col5 {\n",
       "  background-color: #9bbcff;\n",
       "  color: #000000;\n",
       "}\n",
       "#T_ff10a_row8_col2 {\n",
       "  background-color: #5470de;\n",
       "  color: #f1f1f1;\n",
       "}\n",
       "#T_ff10a_row8_col5 {\n",
       "  background-color: #90b2fe;\n",
       "  color: #000000;\n",
       "}\n",
       "#T_ff10a_row9_col2 {\n",
       "  background-color: #bfd3f6;\n",
       "  color: #000000;\n",
       "}\n",
       "#T_ff10a_row9_col4 {\n",
       "  background-color: #b2ccfb;\n",
       "  color: #000000;\n",
       "}\n",
       "#T_ff10a_row9_col5 {\n",
       "  background-color: #5d7ce6;\n",
       "  color: #f1f1f1;\n",
       "}\n",
       "</style>\n",
       "<table id=\"T_ff10a\">\n",
       "  <thead>\n",
       "    <tr>\n",
       "      <th class=\"blank level0\" >&nbsp;</th>\n",
       "      <th id=\"T_ff10a_level0_col0\" class=\"col_heading level0 col0\" >CustomerId</th>\n",
       "      <th id=\"T_ff10a_level0_col1\" class=\"col_heading level0 col1\" >CreditScore</th>\n",
       "      <th id=\"T_ff10a_level0_col2\" class=\"col_heading level0 col2\" >Age</th>\n",
       "      <th id=\"T_ff10a_level0_col3\" class=\"col_heading level0 col3\" >Tenure</th>\n",
       "      <th id=\"T_ff10a_level0_col4\" class=\"col_heading level0 col4\" >Balance</th>\n",
       "      <th id=\"T_ff10a_level0_col5\" class=\"col_heading level0 col5\" >NumOfProducts</th>\n",
       "      <th id=\"T_ff10a_level0_col6\" class=\"col_heading level0 col6\" >HasCrCard</th>\n",
       "      <th id=\"T_ff10a_level0_col7\" class=\"col_heading level0 col7\" >IsActiveMember</th>\n",
       "      <th id=\"T_ff10a_level0_col8\" class=\"col_heading level0 col8\" >EstimatedSalary</th>\n",
       "      <th id=\"T_ff10a_level0_col9\" class=\"col_heading level0 col9\" >Exited</th>\n",
       "    </tr>\n",
       "  </thead>\n",
       "  <tbody>\n",
       "    <tr>\n",
       "      <th id=\"T_ff10a_level0_row0\" class=\"row_heading level0 row0\" >CustomerId</th>\n",
       "      <td id=\"T_ff10a_row0_col0\" class=\"data row0 col0\" >1.000000</td>\n",
       "      <td id=\"T_ff10a_row0_col1\" class=\"data row0 col1\" >0.007299</td>\n",
       "      <td id=\"T_ff10a_row0_col2\" class=\"data row0 col2\" >0.003073</td>\n",
       "      <td id=\"T_ff10a_row0_col3\" class=\"data row0 col3\" >-0.002053</td>\n",
       "      <td id=\"T_ff10a_row0_col4\" class=\"data row0 col4\" >-0.008836</td>\n",
       "      <td id=\"T_ff10a_row0_col5\" class=\"data row0 col5\" >0.005178</td>\n",
       "      <td id=\"T_ff10a_row0_col6\" class=\"data row0 col6\" >-0.005875</td>\n",
       "      <td id=\"T_ff10a_row0_col7\" class=\"data row0 col7\" >-0.002693</td>\n",
       "      <td id=\"T_ff10a_row0_col8\" class=\"data row0 col8\" >0.003875</td>\n",
       "      <td id=\"T_ff10a_row0_col9\" class=\"data row0 col9\" >-0.009723</td>\n",
       "    </tr>\n",
       "    <tr>\n",
       "      <th id=\"T_ff10a_level0_row1\" class=\"row_heading level0 row1\" >CreditScore</th>\n",
       "      <td id=\"T_ff10a_row1_col0\" class=\"data row1 col0\" >0.007299</td>\n",
       "      <td id=\"T_ff10a_row1_col1\" class=\"data row1 col1\" >1.000000</td>\n",
       "      <td id=\"T_ff10a_row1_col2\" class=\"data row1 col2\" >-0.008883</td>\n",
       "      <td id=\"T_ff10a_row1_col3\" class=\"data row1 col3\" >0.000950</td>\n",
       "      <td id=\"T_ff10a_row1_col4\" class=\"data row1 col4\" >0.005592</td>\n",
       "      <td id=\"T_ff10a_row1_col5\" class=\"data row1 col5\" >0.011605</td>\n",
       "      <td id=\"T_ff10a_row1_col6\" class=\"data row1 col6\" >-0.002607</td>\n",
       "      <td id=\"T_ff10a_row1_col7\" class=\"data row1 col7\" >0.015358</td>\n",
       "      <td id=\"T_ff10a_row1_col8\" class=\"data row1 col8\" >-0.000791</td>\n",
       "      <td id=\"T_ff10a_row1_col9\" class=\"data row1 col9\" >-0.027241</td>\n",
       "    </tr>\n",
       "    <tr>\n",
       "      <th id=\"T_ff10a_level0_row2\" class=\"row_heading level0 row2\" >Age</th>\n",
       "      <td id=\"T_ff10a_row2_col0\" class=\"data row2 col0\" >0.003073</td>\n",
       "      <td id=\"T_ff10a_row2_col1\" class=\"data row2 col1\" >-0.008883</td>\n",
       "      <td id=\"T_ff10a_row2_col2\" class=\"data row2 col2\" >1.000000</td>\n",
       "      <td id=\"T_ff10a_row2_col3\" class=\"data row2 col3\" >-0.010786</td>\n",
       "      <td id=\"T_ff10a_row2_col4\" class=\"data row2 col4\" >0.063271</td>\n",
       "      <td id=\"T_ff10a_row2_col5\" class=\"data row2 col5\" >-0.097297</td>\n",
       "      <td id=\"T_ff10a_row2_col6\" class=\"data row2 col6\" >-0.012604</td>\n",
       "      <td id=\"T_ff10a_row2_col7\" class=\"data row2 col7\" >0.008960</td>\n",
       "      <td id=\"T_ff10a_row2_col8\" class=\"data row2 col8\" >-0.006685</td>\n",
       "      <td id=\"T_ff10a_row2_col9\" class=\"data row2 col9\" >0.336606</td>\n",
       "    </tr>\n",
       "    <tr>\n",
       "      <th id=\"T_ff10a_level0_row3\" class=\"row_heading level0 row3\" >Tenure</th>\n",
       "      <td id=\"T_ff10a_row3_col0\" class=\"data row3 col0\" >-0.002053</td>\n",
       "      <td id=\"T_ff10a_row3_col1\" class=\"data row3 col1\" >0.000950</td>\n",
       "      <td id=\"T_ff10a_row3_col2\" class=\"data row3 col2\" >-0.010786</td>\n",
       "      <td id=\"T_ff10a_row3_col3\" class=\"data row3 col3\" >1.000000</td>\n",
       "      <td id=\"T_ff10a_row3_col4\" class=\"data row3 col4\" >-0.009642</td>\n",
       "      <td id=\"T_ff10a_row3_col5\" class=\"data row3 col5\" >0.007707</td>\n",
       "      <td id=\"T_ff10a_row3_col6\" class=\"data row3 col6\" >0.006412</td>\n",
       "      <td id=\"T_ff10a_row3_col7\" class=\"data row3 col7\" >-0.006868</td>\n",
       "      <td id=\"T_ff10a_row3_col8\" class=\"data row3 col8\" >0.001455</td>\n",
       "      <td id=\"T_ff10a_row3_col9\" class=\"data row3 col9\" >-0.019244</td>\n",
       "    </tr>\n",
       "    <tr>\n",
       "      <th id=\"T_ff10a_level0_row4\" class=\"row_heading level0 row4\" >Balance</th>\n",
       "      <td id=\"T_ff10a_row4_col0\" class=\"data row4 col0\" >-0.008836</td>\n",
       "      <td id=\"T_ff10a_row4_col1\" class=\"data row4 col1\" >0.005592</td>\n",
       "      <td id=\"T_ff10a_row4_col2\" class=\"data row4 col2\" >0.063271</td>\n",
       "      <td id=\"T_ff10a_row4_col3\" class=\"data row4 col3\" >-0.009642</td>\n",
       "      <td id=\"T_ff10a_row4_col4\" class=\"data row4 col4\" >1.000000</td>\n",
       "      <td id=\"T_ff10a_row4_col5\" class=\"data row4 col5\" >-0.357267</td>\n",
       "      <td id=\"T_ff10a_row4_col6\" class=\"data row4 col6\" >-0.020303</td>\n",
       "      <td id=\"T_ff10a_row4_col7\" class=\"data row4 col7\" >-0.014139</td>\n",
       "      <td id=\"T_ff10a_row4_col8\" class=\"data row4 col8\" >0.004402</td>\n",
       "      <td id=\"T_ff10a_row4_col9\" class=\"data row4 col9\" >0.128389</td>\n",
       "    </tr>\n",
       "    <tr>\n",
       "      <th id=\"T_ff10a_level0_row5\" class=\"row_heading level0 row5\" >NumOfProducts</th>\n",
       "      <td id=\"T_ff10a_row5_col0\" class=\"data row5 col0\" >0.005178</td>\n",
       "      <td id=\"T_ff10a_row5_col1\" class=\"data row5 col1\" >0.011605</td>\n",
       "      <td id=\"T_ff10a_row5_col2\" class=\"data row5 col2\" >-0.097297</td>\n",
       "      <td id=\"T_ff10a_row5_col3\" class=\"data row5 col3\" >0.007707</td>\n",
       "      <td id=\"T_ff10a_row5_col4\" class=\"data row5 col4\" >-0.357267</td>\n",
       "      <td id=\"T_ff10a_row5_col5\" class=\"data row5 col5\" >1.000000</td>\n",
       "      <td id=\"T_ff10a_row5_col6\" class=\"data row5 col6\" >0.005612</td>\n",
       "      <td id=\"T_ff10a_row5_col7\" class=\"data row5 col7\" >0.037827</td>\n",
       "      <td id=\"T_ff10a_row5_col8\" class=\"data row5 col8\" >-0.002422</td>\n",
       "      <td id=\"T_ff10a_row5_col9\" class=\"data row5 col9\" >-0.204509</td>\n",
       "    </tr>\n",
       "    <tr>\n",
       "      <th id=\"T_ff10a_level0_row6\" class=\"row_heading level0 row6\" >HasCrCard</th>\n",
       "      <td id=\"T_ff10a_row6_col0\" class=\"data row6 col0\" >-0.005875</td>\n",
       "      <td id=\"T_ff10a_row6_col1\" class=\"data row6 col1\" >-0.002607</td>\n",
       "      <td id=\"T_ff10a_row6_col2\" class=\"data row6 col2\" >-0.012604</td>\n",
       "      <td id=\"T_ff10a_row6_col3\" class=\"data row6 col3\" >0.006412</td>\n",
       "      <td id=\"T_ff10a_row6_col4\" class=\"data row6 col4\" >-0.020303</td>\n",
       "      <td id=\"T_ff10a_row6_col5\" class=\"data row6 col5\" >0.005612</td>\n",
       "      <td id=\"T_ff10a_row6_col6\" class=\"data row6 col6\" >1.000000</td>\n",
       "      <td id=\"T_ff10a_row6_col7\" class=\"data row6 col7\" >-0.020682</td>\n",
       "      <td id=\"T_ff10a_row6_col8\" class=\"data row6 col8\" >0.004936</td>\n",
       "      <td id=\"T_ff10a_row6_col9\" class=\"data row6 col9\" >-0.021122</td>\n",
       "    </tr>\n",
       "    <tr>\n",
       "      <th id=\"T_ff10a_level0_row7\" class=\"row_heading level0 row7\" >IsActiveMember</th>\n",
       "      <td id=\"T_ff10a_row7_col0\" class=\"data row7 col0\" >-0.002693</td>\n",
       "      <td id=\"T_ff10a_row7_col1\" class=\"data row7 col1\" >0.015358</td>\n",
       "      <td id=\"T_ff10a_row7_col2\" class=\"data row7 col2\" >0.008960</td>\n",
       "      <td id=\"T_ff10a_row7_col3\" class=\"data row7 col3\" >-0.006868</td>\n",
       "      <td id=\"T_ff10a_row7_col4\" class=\"data row7 col4\" >-0.014139</td>\n",
       "      <td id=\"T_ff10a_row7_col5\" class=\"data row7 col5\" >0.037827</td>\n",
       "      <td id=\"T_ff10a_row7_col6\" class=\"data row7 col6\" >-0.020682</td>\n",
       "      <td id=\"T_ff10a_row7_col7\" class=\"data row7 col7\" >1.000000</td>\n",
       "      <td id=\"T_ff10a_row7_col8\" class=\"data row7 col8\" >-0.008713</td>\n",
       "      <td id=\"T_ff10a_row7_col9\" class=\"data row7 col9\" >-0.207205</td>\n",
       "    </tr>\n",
       "    <tr>\n",
       "      <th id=\"T_ff10a_level0_row8\" class=\"row_heading level0 row8\" >EstimatedSalary</th>\n",
       "      <td id=\"T_ff10a_row8_col0\" class=\"data row8 col0\" >0.003875</td>\n",
       "      <td id=\"T_ff10a_row8_col1\" class=\"data row8 col1\" >-0.000791</td>\n",
       "      <td id=\"T_ff10a_row8_col2\" class=\"data row8 col2\" >-0.006685</td>\n",
       "      <td id=\"T_ff10a_row8_col3\" class=\"data row8 col3\" >0.001455</td>\n",
       "      <td id=\"T_ff10a_row8_col4\" class=\"data row8 col4\" >0.004402</td>\n",
       "      <td id=\"T_ff10a_row8_col5\" class=\"data row8 col5\" >-0.002422</td>\n",
       "      <td id=\"T_ff10a_row8_col6\" class=\"data row8 col6\" >0.004936</td>\n",
       "      <td id=\"T_ff10a_row8_col7\" class=\"data row8 col7\" >-0.008713</td>\n",
       "      <td id=\"T_ff10a_row8_col8\" class=\"data row8 col8\" >1.000000</td>\n",
       "      <td id=\"T_ff10a_row8_col9\" class=\"data row8 col9\" >0.018598</td>\n",
       "    </tr>\n",
       "    <tr>\n",
       "      <th id=\"T_ff10a_level0_row9\" class=\"row_heading level0 row9\" >Exited</th>\n",
       "      <td id=\"T_ff10a_row9_col0\" class=\"data row9 col0\" >-0.009723</td>\n",
       "      <td id=\"T_ff10a_row9_col1\" class=\"data row9 col1\" >-0.027241</td>\n",
       "      <td id=\"T_ff10a_row9_col2\" class=\"data row9 col2\" >0.336606</td>\n",
       "      <td id=\"T_ff10a_row9_col3\" class=\"data row9 col3\" >-0.019244</td>\n",
       "      <td id=\"T_ff10a_row9_col4\" class=\"data row9 col4\" >0.128389</td>\n",
       "      <td id=\"T_ff10a_row9_col5\" class=\"data row9 col5\" >-0.204509</td>\n",
       "      <td id=\"T_ff10a_row9_col6\" class=\"data row9 col6\" >-0.021122</td>\n",
       "      <td id=\"T_ff10a_row9_col7\" class=\"data row9 col7\" >-0.207205</td>\n",
       "      <td id=\"T_ff10a_row9_col8\" class=\"data row9 col8\" >0.018598</td>\n",
       "      <td id=\"T_ff10a_row9_col9\" class=\"data row9 col9\" >1.000000</td>\n",
       "    </tr>\n",
       "  </tbody>\n",
       "</table>\n"
      ],
      "text/plain": [
       "<pandas.io.formats.style.Styler at 0x7fb0843b24d0>"
      ]
     },
     "execution_count": 34,
     "metadata": {},
     "output_type": "execute_result"
    }
   ],
   "source": [
    "corr = numeric_data.corr()\n",
    "corr.style.background_gradient(cmap='coolwarm')"
   ]
  },
  {
   "cell_type": "markdown",
   "metadata": {},
   "source": [
    "#### The following 3 correclations are espsecially noticeable and seem to have a strong impact on the likelihood of a customer choosing to exit or remain with the service.\n",
    "\n",
    "#### **Age - Exited** *↗ Positive Correlation*: As a customers age rises, so does the likelihood of them leaving the service.\n",
    "#### **NumOfProducts - Exited** *↘ Negative Correlation*: If a customer owns more proudcts, it's less likely that they will leave.\n",
    "#### **IsActiveMember - Exited** *↘ Negative Correlation*: If a customer is more active, it's less likely that they will leave."
   ]
  },
  {
   "cell_type": "markdown",
   "metadata": {},
   "source": [
    "## 4. Data Preprocessing"
   ]
  },
  {
   "cell_type": "markdown",
   "metadata": {},
   "source": [
    "#### First, let's update the train and test dataset by dropping the surname as found in the exploration. And while we're at it, also drop the ID column from the test set, as we did for the train set."
   ]
  },
  {
   "cell_type": "code",
   "execution_count": 38,
   "metadata": {},
   "outputs": [],
   "source": [
    "df_train = df_train.drop('Surname', axis=1)\n",
    "\n",
    "# Save the ID's of the test set just in case\n",
    "test_ids = df_test['id']\n",
    "df_test = df_test.drop(['Surname', 'id'], axis=1)\n"
   ]
  },
  {
   "cell_type": "code",
   "execution_count": 41,
   "metadata": {},
   "outputs": [
    {
     "data": {
      "text/html": [
       "<div>\n",
       "<style scoped>\n",
       "    .dataframe tbody tr th:only-of-type {\n",
       "        vertical-align: middle;\n",
       "    }\n",
       "\n",
       "    .dataframe tbody tr th {\n",
       "        vertical-align: top;\n",
       "    }\n",
       "\n",
       "    .dataframe thead th {\n",
       "        text-align: right;\n",
       "    }\n",
       "</style>\n",
       "<table border=\"1\" class=\"dataframe\">\n",
       "  <thead>\n",
       "    <tr style=\"text-align: right;\">\n",
       "      <th></th>\n",
       "      <th>CustomerId</th>\n",
       "      <th>CreditScore</th>\n",
       "      <th>Geography</th>\n",
       "      <th>Gender</th>\n",
       "      <th>Age</th>\n",
       "      <th>Tenure</th>\n",
       "      <th>Balance</th>\n",
       "      <th>NumOfProducts</th>\n",
       "      <th>HasCrCard</th>\n",
       "      <th>IsActiveMember</th>\n",
       "      <th>EstimatedSalary</th>\n",
       "    </tr>\n",
       "  </thead>\n",
       "  <tbody>\n",
       "    <tr>\n",
       "      <th>0</th>\n",
       "      <td>15773898</td>\n",
       "      <td>586</td>\n",
       "      <td>France</td>\n",
       "      <td>Female</td>\n",
       "      <td>23.0</td>\n",
       "      <td>2</td>\n",
       "      <td>0.00</td>\n",
       "      <td>2</td>\n",
       "      <td>0.0</td>\n",
       "      <td>1.0</td>\n",
       "      <td>160976.75</td>\n",
       "    </tr>\n",
       "    <tr>\n",
       "      <th>1</th>\n",
       "      <td>15782418</td>\n",
       "      <td>683</td>\n",
       "      <td>France</td>\n",
       "      <td>Female</td>\n",
       "      <td>46.0</td>\n",
       "      <td>2</td>\n",
       "      <td>0.00</td>\n",
       "      <td>1</td>\n",
       "      <td>1.0</td>\n",
       "      <td>0.0</td>\n",
       "      <td>72549.27</td>\n",
       "    </tr>\n",
       "    <tr>\n",
       "      <th>2</th>\n",
       "      <td>15807120</td>\n",
       "      <td>656</td>\n",
       "      <td>France</td>\n",
       "      <td>Female</td>\n",
       "      <td>34.0</td>\n",
       "      <td>7</td>\n",
       "      <td>0.00</td>\n",
       "      <td>2</td>\n",
       "      <td>1.0</td>\n",
       "      <td>0.0</td>\n",
       "      <td>138882.09</td>\n",
       "    </tr>\n",
       "    <tr>\n",
       "      <th>3</th>\n",
       "      <td>15808905</td>\n",
       "      <td>681</td>\n",
       "      <td>France</td>\n",
       "      <td>Male</td>\n",
       "      <td>36.0</td>\n",
       "      <td>8</td>\n",
       "      <td>0.00</td>\n",
       "      <td>1</td>\n",
       "      <td>1.0</td>\n",
       "      <td>0.0</td>\n",
       "      <td>113931.57</td>\n",
       "    </tr>\n",
       "    <tr>\n",
       "      <th>4</th>\n",
       "      <td>15607314</td>\n",
       "      <td>752</td>\n",
       "      <td>Germany</td>\n",
       "      <td>Male</td>\n",
       "      <td>38.0</td>\n",
       "      <td>10</td>\n",
       "      <td>121263.62</td>\n",
       "      <td>1</td>\n",
       "      <td>1.0</td>\n",
       "      <td>0.0</td>\n",
       "      <td>139431.00</td>\n",
       "    </tr>\n",
       "  </tbody>\n",
       "</table>\n",
       "</div>"
      ],
      "text/plain": [
       "   CustomerId  CreditScore Geography  Gender   Age  Tenure    Balance  \\\n",
       "0    15773898          586    France  Female  23.0       2       0.00   \n",
       "1    15782418          683    France  Female  46.0       2       0.00   \n",
       "2    15807120          656    France  Female  34.0       7       0.00   \n",
       "3    15808905          681    France    Male  36.0       8       0.00   \n",
       "4    15607314          752   Germany    Male  38.0      10  121263.62   \n",
       "\n",
       "   NumOfProducts  HasCrCard  IsActiveMember  EstimatedSalary  \n",
       "0              2        0.0             1.0        160976.75  \n",
       "1              1        1.0             0.0         72549.27  \n",
       "2              2        1.0             0.0        138882.09  \n",
       "3              1        1.0             0.0        113931.57  \n",
       "4              1        1.0             0.0        139431.00  "
      ]
     },
     "execution_count": 41,
     "metadata": {},
     "output_type": "execute_result"
    }
   ],
   "source": [
    "df_test.head()"
   ]
  },
  {
   "cell_type": "code",
   "execution_count": 42,
   "metadata": {},
   "outputs": [
    {
     "data": {
      "text/html": [
       "<div>\n",
       "<style scoped>\n",
       "    .dataframe tbody tr th:only-of-type {\n",
       "        vertical-align: middle;\n",
       "    }\n",
       "\n",
       "    .dataframe tbody tr th {\n",
       "        vertical-align: top;\n",
       "    }\n",
       "\n",
       "    .dataframe thead th {\n",
       "        text-align: right;\n",
       "    }\n",
       "</style>\n",
       "<table border=\"1\" class=\"dataframe\">\n",
       "  <thead>\n",
       "    <tr style=\"text-align: right;\">\n",
       "      <th></th>\n",
       "      <th>CustomerId</th>\n",
       "      <th>CreditScore</th>\n",
       "      <th>Geography</th>\n",
       "      <th>Gender</th>\n",
       "      <th>Age</th>\n",
       "      <th>Tenure</th>\n",
       "      <th>Balance</th>\n",
       "      <th>NumOfProducts</th>\n",
       "      <th>HasCrCard</th>\n",
       "      <th>IsActiveMember</th>\n",
       "      <th>EstimatedSalary</th>\n",
       "      <th>Exited</th>\n",
       "    </tr>\n",
       "  </thead>\n",
       "  <tbody>\n",
       "    <tr>\n",
       "      <th>0</th>\n",
       "      <td>15674932</td>\n",
       "      <td>668</td>\n",
       "      <td>France</td>\n",
       "      <td>Male</td>\n",
       "      <td>33.0</td>\n",
       "      <td>3</td>\n",
       "      <td>0.00</td>\n",
       "      <td>2</td>\n",
       "      <td>1.0</td>\n",
       "      <td>0.0</td>\n",
       "      <td>181449.97</td>\n",
       "      <td>0</td>\n",
       "    </tr>\n",
       "    <tr>\n",
       "      <th>1</th>\n",
       "      <td>15749177</td>\n",
       "      <td>627</td>\n",
       "      <td>France</td>\n",
       "      <td>Male</td>\n",
       "      <td>33.0</td>\n",
       "      <td>1</td>\n",
       "      <td>0.00</td>\n",
       "      <td>2</td>\n",
       "      <td>1.0</td>\n",
       "      <td>1.0</td>\n",
       "      <td>49503.50</td>\n",
       "      <td>0</td>\n",
       "    </tr>\n",
       "    <tr>\n",
       "      <th>2</th>\n",
       "      <td>15694510</td>\n",
       "      <td>678</td>\n",
       "      <td>France</td>\n",
       "      <td>Male</td>\n",
       "      <td>40.0</td>\n",
       "      <td>10</td>\n",
       "      <td>0.00</td>\n",
       "      <td>2</td>\n",
       "      <td>1.0</td>\n",
       "      <td>0.0</td>\n",
       "      <td>184866.69</td>\n",
       "      <td>0</td>\n",
       "    </tr>\n",
       "    <tr>\n",
       "      <th>3</th>\n",
       "      <td>15741417</td>\n",
       "      <td>581</td>\n",
       "      <td>France</td>\n",
       "      <td>Male</td>\n",
       "      <td>34.0</td>\n",
       "      <td>2</td>\n",
       "      <td>148882.54</td>\n",
       "      <td>1</td>\n",
       "      <td>1.0</td>\n",
       "      <td>1.0</td>\n",
       "      <td>84560.88</td>\n",
       "      <td>0</td>\n",
       "    </tr>\n",
       "    <tr>\n",
       "      <th>4</th>\n",
       "      <td>15766172</td>\n",
       "      <td>716</td>\n",
       "      <td>Spain</td>\n",
       "      <td>Male</td>\n",
       "      <td>33.0</td>\n",
       "      <td>5</td>\n",
       "      <td>0.00</td>\n",
       "      <td>2</td>\n",
       "      <td>1.0</td>\n",
       "      <td>1.0</td>\n",
       "      <td>15068.83</td>\n",
       "      <td>0</td>\n",
       "    </tr>\n",
       "  </tbody>\n",
       "</table>\n",
       "</div>"
      ],
      "text/plain": [
       "   CustomerId  CreditScore Geography Gender   Age  Tenure    Balance  \\\n",
       "0    15674932          668    France   Male  33.0       3       0.00   \n",
       "1    15749177          627    France   Male  33.0       1       0.00   \n",
       "2    15694510          678    France   Male  40.0      10       0.00   \n",
       "3    15741417          581    France   Male  34.0       2  148882.54   \n",
       "4    15766172          716     Spain   Male  33.0       5       0.00   \n",
       "\n",
       "   NumOfProducts  HasCrCard  IsActiveMember  EstimatedSalary  Exited  \n",
       "0              2        1.0             0.0        181449.97       0  \n",
       "1              2        1.0             1.0         49503.50       0  \n",
       "2              2        1.0             0.0        184866.69       0  \n",
       "3              1        1.0             1.0         84560.88       0  \n",
       "4              2        1.0             1.0         15068.83       0  "
      ]
     },
     "execution_count": 42,
     "metadata": {},
     "output_type": "execute_result"
    }
   ],
   "source": [
    "df_train.head()"
   ]
  },
  {
   "cell_type": "markdown",
   "metadata": {},
   "source": [
    "#### Based on the feature description of the dataset, I will apply the following scalers / encoders to the listed features. This applies both to the train and the test set.\n",
    "\n",
    "#### **Standard Scale:** <br>Transforms features to have a mean of 0 and a standard deviation of 1 by subtracting the mean and dividing by the standard deviation.\n",
    "- CreditScore\n",
    "- Age\n",
    "- Balance\n",
    "- EstimatedSalary\n",
    "\n",
    "\n",
    "#### **Min-Max Scale:** <br> Rescales features to a specific range (usually 0 to 1) by subtracting the minimum and dividing by the range of values. \n",
    "- Tenure\n",
    "- NumOfProducts\n",
    "#### **Label Encode:** <br>Converts categorical labels into numerical values (0, 1, 2, etc.) to allow algorithms to process them as input.\n",
    "- Geography\n",
    "- Gender\n"
   ]
  },
  {
   "cell_type": "code",
   "execution_count": 208,
   "metadata": {},
   "outputs": [],
   "source": [
    "# Unscaled Features\n",
    "df_train_unscaled = df_train[['CustomerId', 'HasCrCard', 'IsActiveMember', 'Exited']]\n",
    "df_test_unscaled = df_test[['CustomerId', 'HasCrCard', 'IsActiveMember']]\n",
    "\n",
    "# Standard Scaled Features\n",
    "df_train_standard = df_train[['CreditScore', 'Age', 'Balance', 'EstimatedSalary']]\n",
    "df_test_standard = df_test[['CreditScore', 'Age', 'Balance', 'EstimatedSalary']]\n",
    "\n",
    "# MinMax Scaled Features\n",
    "df_train_minmax = df_train[['Tenure', 'NumOfProducts']]\n",
    "df_test_minmax = df_test[['Tenure', 'NumOfProducts']]\n",
    "\n",
    "# Label Encoded Features\n",
    "df_train_label = df_train[['Geography', 'Gender']]\n",
    "df_test_label = df_test[['Geography', 'Gender']]"
   ]
  },
  {
   "cell_type": "markdown",
   "metadata": {},
   "source": [
    "### Standard Scaling"
   ]
  },
  {
   "cell_type": "code",
   "execution_count": 196,
   "metadata": {},
   "outputs": [
    {
     "data": {
      "text/plain": [
       "array([ 0.14646561, -0.5765412 , -0.89989476,  1.36942228])"
      ]
     },
     "execution_count": 196,
     "metadata": {},
     "output_type": "execute_result"
    }
   ],
   "source": [
    "# Initialize Scaler\n",
    "scaler = StandardScaler()\n",
    "\n",
    "# Fit Scaler and transform train set\n",
    "train_standard_scaled = scaler.fit_transform(df_train_standard)\n",
    "# Transform test set\n",
    "test_standard_scaled  = scaler.transform(df_test_standard)\n",
    "\n",
    "# Check output\n",
    "train_standard_scaled[0]"
   ]
  },
  {
   "cell_type": "code",
   "execution_count": 197,
   "metadata": {},
   "outputs": [],
   "source": [
    "# Convert scaled data back to DataFrame\n",
    "df_train_standard_scaled = pd.DataFrame(train_standard_scaled, columns=df_train_standard.columns)\n",
    "df_test_standard_scaled = pd.DataFrame(test_standard_scaled, columns=df_test_standard.columns)"
   ]
  },
  {
   "cell_type": "code",
   "execution_count": 198,
   "metadata": {},
   "outputs": [
    {
     "data": {
      "text/html": [
       "<div>\n",
       "<style scoped>\n",
       "    .dataframe tbody tr th:only-of-type {\n",
       "        vertical-align: middle;\n",
       "    }\n",
       "\n",
       "    .dataframe tbody tr th {\n",
       "        vertical-align: top;\n",
       "    }\n",
       "\n",
       "    .dataframe thead th {\n",
       "        text-align: right;\n",
       "    }\n",
       "</style>\n",
       "<table border=\"1\" class=\"dataframe\">\n",
       "  <thead>\n",
       "    <tr style=\"text-align: right;\">\n",
       "      <th></th>\n",
       "      <th>CreditScore</th>\n",
       "      <th>Age</th>\n",
       "      <th>Balance</th>\n",
       "      <th>EstimatedSalary</th>\n",
       "    </tr>\n",
       "  </thead>\n",
       "  <tbody>\n",
       "    <tr>\n",
       "      <th>0</th>\n",
       "      <td>0.146466</td>\n",
       "      <td>-0.576541</td>\n",
       "      <td>-0.899895</td>\n",
       "      <td>1.369422</td>\n",
       "    </tr>\n",
       "    <tr>\n",
       "      <th>1</th>\n",
       "      <td>-0.358780</td>\n",
       "      <td>-0.576541</td>\n",
       "      <td>-0.899895</td>\n",
       "      <td>-1.227182</td>\n",
       "    </tr>\n",
       "    <tr>\n",
       "      <th>2</th>\n",
       "      <td>0.269696</td>\n",
       "      <td>0.203879</td>\n",
       "      <td>-0.899895</td>\n",
       "      <td>1.436661</td>\n",
       "    </tr>\n",
       "    <tr>\n",
       "      <th>3</th>\n",
       "      <td>-0.925640</td>\n",
       "      <td>-0.465053</td>\n",
       "      <td>1.463990</td>\n",
       "      <td>-0.537280</td>\n",
       "    </tr>\n",
       "    <tr>\n",
       "      <th>4</th>\n",
       "      <td>0.737972</td>\n",
       "      <td>-0.576541</td>\n",
       "      <td>-0.899895</td>\n",
       "      <td>-1.904830</td>\n",
       "    </tr>\n",
       "  </tbody>\n",
       "</table>\n",
       "</div>"
      ],
      "text/plain": [
       "   CreditScore       Age   Balance  EstimatedSalary\n",
       "0     0.146466 -0.576541 -0.899895         1.369422\n",
       "1    -0.358780 -0.576541 -0.899895        -1.227182\n",
       "2     0.269696  0.203879 -0.899895         1.436661\n",
       "3    -0.925640 -0.465053  1.463990        -0.537280\n",
       "4     0.737972 -0.576541 -0.899895        -1.904830"
      ]
     },
     "execution_count": 198,
     "metadata": {},
     "output_type": "execute_result"
    }
   ],
   "source": [
    "df_train_standard_scaled.head()"
   ]
  },
  {
   "cell_type": "markdown",
   "metadata": {},
   "source": [
    "### MinMax Scaling"
   ]
  },
  {
   "cell_type": "code",
   "execution_count": 199,
   "metadata": {},
   "outputs": [
    {
     "data": {
      "text/plain": [
       "array([0.3       , 0.33333333])"
      ]
     },
     "execution_count": 199,
     "metadata": {},
     "output_type": "execute_result"
    }
   ],
   "source": [
    "# Initialize Scaler\n",
    "scaler = MinMaxScaler()\n",
    "\n",
    "# Fit Scaler and transform train set\n",
    "train_minmax_scaled = scaler.fit_transform(df_train_minmax)\n",
    "# Transform test set\n",
    "test_minmax_scaled  = scaler.transform(df_test_minmax)\n",
    "\n",
    "# Check output\n",
    "train_minmax_scaled[0]"
   ]
  },
  {
   "cell_type": "code",
   "execution_count": 200,
   "metadata": {},
   "outputs": [],
   "source": [
    "# Convert scaled data back to a DataFrame\n",
    "df_train_minmax_scaled = pd.DataFrame(train_minmax_scaled, columns=df_train_minmax.columns)\n",
    "df_test_minmax_scaled = pd.DataFrame(test_minmax_scaled, columns=df_test_minmax.columns)"
   ]
  },
  {
   "cell_type": "code",
   "execution_count": 201,
   "metadata": {},
   "outputs": [
    {
     "data": {
      "text/html": [
       "<div>\n",
       "<style scoped>\n",
       "    .dataframe tbody tr th:only-of-type {\n",
       "        vertical-align: middle;\n",
       "    }\n",
       "\n",
       "    .dataframe tbody tr th {\n",
       "        vertical-align: top;\n",
       "    }\n",
       "\n",
       "    .dataframe thead th {\n",
       "        text-align: right;\n",
       "    }\n",
       "</style>\n",
       "<table border=\"1\" class=\"dataframe\">\n",
       "  <thead>\n",
       "    <tr style=\"text-align: right;\">\n",
       "      <th></th>\n",
       "      <th>Tenure</th>\n",
       "      <th>NumOfProducts</th>\n",
       "    </tr>\n",
       "  </thead>\n",
       "  <tbody>\n",
       "    <tr>\n",
       "      <th>0</th>\n",
       "      <td>0.3</td>\n",
       "      <td>0.333333</td>\n",
       "    </tr>\n",
       "    <tr>\n",
       "      <th>1</th>\n",
       "      <td>0.1</td>\n",
       "      <td>0.333333</td>\n",
       "    </tr>\n",
       "    <tr>\n",
       "      <th>2</th>\n",
       "      <td>1.0</td>\n",
       "      <td>0.333333</td>\n",
       "    </tr>\n",
       "    <tr>\n",
       "      <th>3</th>\n",
       "      <td>0.2</td>\n",
       "      <td>0.000000</td>\n",
       "    </tr>\n",
       "    <tr>\n",
       "      <th>4</th>\n",
       "      <td>0.5</td>\n",
       "      <td>0.333333</td>\n",
       "    </tr>\n",
       "  </tbody>\n",
       "</table>\n",
       "</div>"
      ],
      "text/plain": [
       "   Tenure  NumOfProducts\n",
       "0     0.3       0.333333\n",
       "1     0.1       0.333333\n",
       "2     1.0       0.333333\n",
       "3     0.2       0.000000\n",
       "4     0.5       0.333333"
      ]
     },
     "execution_count": 201,
     "metadata": {},
     "output_type": "execute_result"
    }
   ],
   "source": [
    "df_train_minmax_scaled.head()"
   ]
  },
  {
   "cell_type": "markdown",
   "metadata": {},
   "source": [
    "### Label Encoding"
   ]
  },
  {
   "cell_type": "code",
   "execution_count": 209,
   "metadata": {},
   "outputs": [
    {
     "data": {
      "text/plain": [
       "Geography    object\n",
       "Gender       object\n",
       "dtype: object"
      ]
     },
     "execution_count": 209,
     "metadata": {},
     "output_type": "execute_result"
    }
   ],
   "source": [
    "df_train_label.dtypes"
   ]
  },
  {
   "cell_type": "code",
   "execution_count": 210,
   "metadata": {},
   "outputs": [],
   "source": [
    "# Initialize Encoder\n",
    "label_encoder = LabelEncoder()\n",
    "\n",
    "# Apply label encoding to each categorical column (train)\n",
    "for column in df_train_label.columns:\n",
    "    df_train_label.loc[:, column] = label_encoder.fit_transform(df_train_label.loc[:, column])\n",
    "\n",
    "for column in df_test_label.columns:\n",
    "    df_test_label.loc[:, column] = label_encoder.fit_transform(df_test_label.loc[:, column])\n"
   ]
  },
  {
   "cell_type": "code",
   "execution_count": 231,
   "metadata": {},
   "outputs": [],
   "source": [
    "# Make sure the dtypes are numerical\n",
    "df_train_label.loc[:, 'Geography'] = pd.to_numeric(df_train_label.loc[:, 'Geography'])\n",
    "df_train_label.loc[:, 'Gender'] = pd.to_numeric(df_train_label.loc[:, 'Gender'])\n",
    "\n",
    "df_test_label.loc[:, 'Geography'] = pd.to_numeric(df_test_label.loc[:, 'Geography'])\n",
    "df_test_label.loc[:, 'Gender'] = pd.to_numeric(df_test_label.loc[:, 'Gender'])"
   ]
  },
  {
   "cell_type": "code",
   "execution_count": 232,
   "metadata": {},
   "outputs": [
    {
     "data": {
      "text/html": [
       "<div>\n",
       "<style scoped>\n",
       "    .dataframe tbody tr th:only-of-type {\n",
       "        vertical-align: middle;\n",
       "    }\n",
       "\n",
       "    .dataframe tbody tr th {\n",
       "        vertical-align: top;\n",
       "    }\n",
       "\n",
       "    .dataframe thead th {\n",
       "        text-align: right;\n",
       "    }\n",
       "</style>\n",
       "<table border=\"1\" class=\"dataframe\">\n",
       "  <thead>\n",
       "    <tr style=\"text-align: right;\">\n",
       "      <th></th>\n",
       "      <th>Geography</th>\n",
       "      <th>Gender</th>\n",
       "    </tr>\n",
       "  </thead>\n",
       "  <tbody>\n",
       "    <tr>\n",
       "      <th>0</th>\n",
       "      <td>0</td>\n",
       "      <td>1</td>\n",
       "    </tr>\n",
       "    <tr>\n",
       "      <th>1</th>\n",
       "      <td>0</td>\n",
       "      <td>1</td>\n",
       "    </tr>\n",
       "    <tr>\n",
       "      <th>2</th>\n",
       "      <td>0</td>\n",
       "      <td>1</td>\n",
       "    </tr>\n",
       "    <tr>\n",
       "      <th>3</th>\n",
       "      <td>0</td>\n",
       "      <td>1</td>\n",
       "    </tr>\n",
       "    <tr>\n",
       "      <th>4</th>\n",
       "      <td>2</td>\n",
       "      <td>1</td>\n",
       "    </tr>\n",
       "  </tbody>\n",
       "</table>\n",
       "</div>"
      ],
      "text/plain": [
       "   Geography  Gender\n",
       "0          0       1\n",
       "1          0       1\n",
       "2          0       1\n",
       "3          0       1\n",
       "4          2       1"
      ]
     },
     "execution_count": 232,
     "metadata": {},
     "output_type": "execute_result"
    }
   ],
   "source": [
    "df_train_label.head()"
   ]
  },
  {
   "cell_type": "markdown",
   "metadata": {},
   "source": [
    "### Concatenate all the scaled dataframes into one"
   ]
  },
  {
   "cell_type": "code",
   "execution_count": 233,
   "metadata": {},
   "outputs": [
    {
     "data": {
      "text/html": [
       "<div>\n",
       "<style scoped>\n",
       "    .dataframe tbody tr th:only-of-type {\n",
       "        vertical-align: middle;\n",
       "    }\n",
       "\n",
       "    .dataframe tbody tr th {\n",
       "        vertical-align: top;\n",
       "    }\n",
       "\n",
       "    .dataframe thead th {\n",
       "        text-align: right;\n",
       "    }\n",
       "</style>\n",
       "<table border=\"1\" class=\"dataframe\">\n",
       "  <thead>\n",
       "    <tr style=\"text-align: right;\">\n",
       "      <th></th>\n",
       "      <th>CustomerId</th>\n",
       "      <th>CreditScore</th>\n",
       "      <th>Geography</th>\n",
       "      <th>Gender</th>\n",
       "      <th>Age</th>\n",
       "      <th>Tenure</th>\n",
       "      <th>Balance</th>\n",
       "      <th>NumOfProducts</th>\n",
       "      <th>HasCrCard</th>\n",
       "      <th>IsActiveMember</th>\n",
       "      <th>EstimatedSalary</th>\n",
       "      <th>Exited</th>\n",
       "    </tr>\n",
       "  </thead>\n",
       "  <tbody>\n",
       "    <tr>\n",
       "      <th>0</th>\n",
       "      <td>15674932</td>\n",
       "      <td>0.146466</td>\n",
       "      <td>0</td>\n",
       "      <td>1</td>\n",
       "      <td>-0.576541</td>\n",
       "      <td>0.3</td>\n",
       "      <td>-0.899895</td>\n",
       "      <td>0.333333</td>\n",
       "      <td>1.0</td>\n",
       "      <td>0.0</td>\n",
       "      <td>1.369422</td>\n",
       "      <td>0</td>\n",
       "    </tr>\n",
       "    <tr>\n",
       "      <th>1</th>\n",
       "      <td>15749177</td>\n",
       "      <td>-0.358780</td>\n",
       "      <td>0</td>\n",
       "      <td>1</td>\n",
       "      <td>-0.576541</td>\n",
       "      <td>0.1</td>\n",
       "      <td>-0.899895</td>\n",
       "      <td>0.333333</td>\n",
       "      <td>1.0</td>\n",
       "      <td>1.0</td>\n",
       "      <td>-1.227182</td>\n",
       "      <td>0</td>\n",
       "    </tr>\n",
       "    <tr>\n",
       "      <th>2</th>\n",
       "      <td>15694510</td>\n",
       "      <td>0.269696</td>\n",
       "      <td>0</td>\n",
       "      <td>1</td>\n",
       "      <td>0.203879</td>\n",
       "      <td>1.0</td>\n",
       "      <td>-0.899895</td>\n",
       "      <td>0.333333</td>\n",
       "      <td>1.0</td>\n",
       "      <td>0.0</td>\n",
       "      <td>1.436661</td>\n",
       "      <td>0</td>\n",
       "    </tr>\n",
       "    <tr>\n",
       "      <th>3</th>\n",
       "      <td>15741417</td>\n",
       "      <td>-0.925640</td>\n",
       "      <td>0</td>\n",
       "      <td>1</td>\n",
       "      <td>-0.465053</td>\n",
       "      <td>0.2</td>\n",
       "      <td>1.463990</td>\n",
       "      <td>0.000000</td>\n",
       "      <td>1.0</td>\n",
       "      <td>1.0</td>\n",
       "      <td>-0.537280</td>\n",
       "      <td>0</td>\n",
       "    </tr>\n",
       "    <tr>\n",
       "      <th>4</th>\n",
       "      <td>15766172</td>\n",
       "      <td>0.737972</td>\n",
       "      <td>2</td>\n",
       "      <td>1</td>\n",
       "      <td>-0.576541</td>\n",
       "      <td>0.5</td>\n",
       "      <td>-0.899895</td>\n",
       "      <td>0.333333</td>\n",
       "      <td>1.0</td>\n",
       "      <td>1.0</td>\n",
       "      <td>-1.904830</td>\n",
       "      <td>0</td>\n",
       "    </tr>\n",
       "  </tbody>\n",
       "</table>\n",
       "</div>"
      ],
      "text/plain": [
       "   CustomerId  CreditScore  Geography  Gender       Age  Tenure   Balance  \\\n",
       "0    15674932     0.146466          0       1 -0.576541     0.3 -0.899895   \n",
       "1    15749177    -0.358780          0       1 -0.576541     0.1 -0.899895   \n",
       "2    15694510     0.269696          0       1  0.203879     1.0 -0.899895   \n",
       "3    15741417    -0.925640          0       1 -0.465053     0.2  1.463990   \n",
       "4    15766172     0.737972          2       1 -0.576541     0.5 -0.899895   \n",
       "\n",
       "   NumOfProducts  HasCrCard  IsActiveMember  EstimatedSalary  Exited  \n",
       "0       0.333333        1.0             0.0         1.369422       0  \n",
       "1       0.333333        1.0             1.0        -1.227182       0  \n",
       "2       0.333333        1.0             0.0         1.436661       0  \n",
       "3       0.000000        1.0             1.0        -0.537280       0  \n",
       "4       0.333333        1.0             1.0        -1.904830       0  "
      ]
     },
     "execution_count": 233,
     "metadata": {},
     "output_type": "execute_result"
    }
   ],
   "source": [
    "df_train_to_concat = [df_train_unscaled, df_train_standard_scaled, df_train_minmax_scaled, df_train_label]\n",
    "\n",
    "# Reset index before concatenating\n",
    "for df in df_train_to_concat:\n",
    "    df.reset_index(drop=True, inplace=True)\n",
    "\n",
    "# Concatenate\n",
    "df_train_scaled = pd.concat(df_train_to_concat, axis=1)\n",
    "\n",
    "# Reorder columns\n",
    "order = ['CustomerId', 'CreditScore', 'Geography', 'Gender', 'Age', 'Tenure', 'Balance', 'NumOfProducts', 'HasCrCard', 'IsActiveMember', 'EstimatedSalary', 'Exited']\n",
    "df_train_scaled = df_train_scaled[order]\n",
    "\n",
    "df_train_scaled.head()\n"
   ]
  },
  {
   "cell_type": "code",
   "execution_count": 234,
   "metadata": {},
   "outputs": [
    {
     "data": {
      "text/html": [
       "<div>\n",
       "<style scoped>\n",
       "    .dataframe tbody tr th:only-of-type {\n",
       "        vertical-align: middle;\n",
       "    }\n",
       "\n",
       "    .dataframe tbody tr th {\n",
       "        vertical-align: top;\n",
       "    }\n",
       "\n",
       "    .dataframe thead th {\n",
       "        text-align: right;\n",
       "    }\n",
       "</style>\n",
       "<table border=\"1\" class=\"dataframe\">\n",
       "  <thead>\n",
       "    <tr style=\"text-align: right;\">\n",
       "      <th></th>\n",
       "      <th>CustomerId</th>\n",
       "      <th>CreditScore</th>\n",
       "      <th>Geography</th>\n",
       "      <th>Gender</th>\n",
       "      <th>Age</th>\n",
       "      <th>Tenure</th>\n",
       "      <th>Balance</th>\n",
       "      <th>NumOfProducts</th>\n",
       "      <th>HasCrCard</th>\n",
       "      <th>IsActiveMember</th>\n",
       "      <th>EstimatedSalary</th>\n",
       "      <th>Exited</th>\n",
       "    </tr>\n",
       "  </thead>\n",
       "  <tbody>\n",
       "    <tr>\n",
       "      <th>0</th>\n",
       "      <td>15674932</td>\n",
       "      <td>0.146466</td>\n",
       "      <td>0</td>\n",
       "      <td>1</td>\n",
       "      <td>-0.576541</td>\n",
       "      <td>0.3</td>\n",
       "      <td>-0.899895</td>\n",
       "      <td>0.333333</td>\n",
       "      <td>1.0</td>\n",
       "      <td>0.0</td>\n",
       "      <td>1.369422</td>\n",
       "      <td>0</td>\n",
       "    </tr>\n",
       "    <tr>\n",
       "      <th>1</th>\n",
       "      <td>15749177</td>\n",
       "      <td>-0.358780</td>\n",
       "      <td>0</td>\n",
       "      <td>1</td>\n",
       "      <td>-0.576541</td>\n",
       "      <td>0.1</td>\n",
       "      <td>-0.899895</td>\n",
       "      <td>0.333333</td>\n",
       "      <td>1.0</td>\n",
       "      <td>1.0</td>\n",
       "      <td>-1.227182</td>\n",
       "      <td>0</td>\n",
       "    </tr>\n",
       "    <tr>\n",
       "      <th>2</th>\n",
       "      <td>15694510</td>\n",
       "      <td>0.269696</td>\n",
       "      <td>0</td>\n",
       "      <td>1</td>\n",
       "      <td>0.203879</td>\n",
       "      <td>1.0</td>\n",
       "      <td>-0.899895</td>\n",
       "      <td>0.333333</td>\n",
       "      <td>1.0</td>\n",
       "      <td>0.0</td>\n",
       "      <td>1.436661</td>\n",
       "      <td>0</td>\n",
       "    </tr>\n",
       "    <tr>\n",
       "      <th>3</th>\n",
       "      <td>15741417</td>\n",
       "      <td>-0.925640</td>\n",
       "      <td>0</td>\n",
       "      <td>1</td>\n",
       "      <td>-0.465053</td>\n",
       "      <td>0.2</td>\n",
       "      <td>1.463990</td>\n",
       "      <td>0.000000</td>\n",
       "      <td>1.0</td>\n",
       "      <td>1.0</td>\n",
       "      <td>-0.537280</td>\n",
       "      <td>0</td>\n",
       "    </tr>\n",
       "    <tr>\n",
       "      <th>4</th>\n",
       "      <td>15766172</td>\n",
       "      <td>0.737972</td>\n",
       "      <td>2</td>\n",
       "      <td>1</td>\n",
       "      <td>-0.576541</td>\n",
       "      <td>0.5</td>\n",
       "      <td>-0.899895</td>\n",
       "      <td>0.333333</td>\n",
       "      <td>1.0</td>\n",
       "      <td>1.0</td>\n",
       "      <td>-1.904830</td>\n",
       "      <td>0</td>\n",
       "    </tr>\n",
       "  </tbody>\n",
       "</table>\n",
       "</div>"
      ],
      "text/plain": [
       "   CustomerId  CreditScore  Geography  Gender       Age  Tenure   Balance  \\\n",
       "0    15674932     0.146466          0       1 -0.576541     0.3 -0.899895   \n",
       "1    15749177    -0.358780          0       1 -0.576541     0.1 -0.899895   \n",
       "2    15694510     0.269696          0       1  0.203879     1.0 -0.899895   \n",
       "3    15741417    -0.925640          0       1 -0.465053     0.2  1.463990   \n",
       "4    15766172     0.737972          2       1 -0.576541     0.5 -0.899895   \n",
       "\n",
       "   NumOfProducts  HasCrCard  IsActiveMember  EstimatedSalary  Exited  \n",
       "0       0.333333        1.0             0.0         1.369422       0  \n",
       "1       0.333333        1.0             1.0        -1.227182       0  \n",
       "2       0.333333        1.0             0.0         1.436661       0  \n",
       "3       0.000000        1.0             1.0        -0.537280       0  \n",
       "4       0.333333        1.0             1.0        -1.904830       0  "
      ]
     },
     "execution_count": 234,
     "metadata": {},
     "output_type": "execute_result"
    }
   ],
   "source": [
    "df_test_to_concat = [df_test_unscaled, df_test_standard_scaled, df_test_minmax_scaled, df_test_label]\n",
    "\n",
    "# Reset index before concatenating\n",
    "for df in df_test_to_concat:\n",
    "    df.reset_index(drop=True, inplace=True)\n",
    "\n",
    "# Concatenate\n",
    "df_test_scaled = pd.concat(df_test_to_concat, axis=1)\n",
    "df_test_scaled.head()\n",
    "\n",
    "# Reorder columns\n",
    "order = ['CustomerId', 'CreditScore', 'Geography', 'Gender', 'Age', 'Tenure', 'Balance', 'NumOfProducts', 'HasCrCard', 'IsActiveMember', 'EstimatedSalary']\n",
    "df_test_scaled = df_test_scaled[order]\n",
    "\n",
    "df_train_scaled.head()"
   ]
  },
  {
   "cell_type": "markdown",
   "metadata": {},
   "source": [
    "## 5. Modelling"
   ]
  },
  {
   "cell_type": "markdown",
   "metadata": {},
   "source": [
    "#### Now that the data is ready to go, I will attemtp to find the best performing model out of the following:\n",
    "- LightGBM Model\n",
    "- XGboost Model\n",
    "- CatBoost Model"
   ]
  },
  {
   "cell_type": "markdown",
   "metadata": {},
   "source": [
    "### Data Splitting"
   ]
  },
  {
   "cell_type": "code",
   "execution_count": 235,
   "metadata": {},
   "outputs": [],
   "source": [
    "X_train = df_train_scaled.drop('Exited', axis=1)\n",
    "y_train = df_train_scaled['Exited']\n",
    "X_test = df_test_scaled"
   ]
  },
  {
   "cell_type": "markdown",
   "metadata": {},
   "source": [
    "### LGBM Model"
   ]
  },
  {
   "cell_type": "code",
   "execution_count": 236,
   "metadata": {},
   "outputs": [],
   "source": [
    "lgbm = LGBMClassifier(**{  'objective'           : 'binary',\n",
    "                           'boosting_type'       : 'gbdt',\n",
    "                           'metric'              : \"auc\",\n",
    "                           'random_state'        : 42,\n",
    "                           'colsample_bytree'    : 0.56,\n",
    "                           'subsample'           : 0.35,\n",
    "                           'learning_rate'       : 0.05,\n",
    "                           'max_depth'           : 8,\n",
    "                           'n_estimators'        : 1000,\n",
    "                           'num_leaves'          : 140,\n",
    "                           'reg_alpha'           : 0.14,\n",
    "                           'reg_lambda'          : 0.85,\n",
    "                           'verbosity'           : -1,\n",
    "                          })"
   ]
  },
  {
   "cell_type": "markdown",
   "metadata": {},
   "source": [
    "### XBG Model"
   ]
  },
  {
   "cell_type": "code",
   "execution_count": 237,
   "metadata": {},
   "outputs": [],
   "source": [
    "xgb  = XGBClassifier(**{  'objective'             : 'binary:logistic',\n",
    "                          'eval_metric'           : \"auc\",\n",
    "                          'random_state'          : 42,\n",
    "                          'colsample_bytree'      : 0.25,\n",
    "                          'learning_rate'         : 0.07,\n",
    "                          'max_depth'             : 8,\n",
    "                          'n_estimators'          : 800,\n",
    "                          'reg_alpha'             : 0.09,\n",
    "                          'reg_lambda'            : 0.70,\n",
    "                          'min_child_weight'      : 22,\n",
    "                          'verbosity'             : 0,\n",
    "                         })"
   ]
  },
  {
   "cell_type": "markdown",
   "metadata": {},
   "source": [
    "### CatBoost Model"
   ]
  },
  {
   "cell_type": "code",
   "execution_count": 238,
   "metadata": {},
   "outputs": [],
   "source": [
    "cat  = CatBoostClassifier(**{\n",
    "                         'iterations'            : 10000,\n",
    "                         'objective'             : 'Logloss',\n",
    "                         'eval_metric'           : \"AUC\",\n",
    "                         'early_stopping_rounds' : 1000,\n",
    "                         'bagging_temperature'   : 0.1,\n",
    "                         'colsample_bylevel'     : 0.88,\n",
    "                         'iterations'            : 1000,\n",
    "                         'learning_rate'         : 0.065,\n",
    "                         'max_depth'             : 7,\n",
    "                         'l2_leaf_reg'           : 1,\n",
    "                         'min_data_in_leaf'      : 25,\n",
    "                         'random_strength'       : 0.1,\n",
    "                         'max_bin'               : 100,\n",
    "                         'verbose'               : 0,\n",
    "                        })"
   ]
  },
  {
   "cell_type": "markdown",
   "metadata": {},
   "source": [
    "### Applying a Voting Classifier\n",
    "#### It aggregates the predictions of each base classifier and predicts the class that receives the most votes (or the highest probability, depending on the strategy used) from the individual classifiers."
   ]
  },
  {
   "cell_type": "code",
   "execution_count": 239,
   "metadata": {},
   "outputs": [],
   "source": [
    "vote = VotingClassifier(estimators=[('lgbm', lgbm),\n",
    "                                    ('xgb', xgb),\n",
    "                                    ('cat', cat)],\n",
    "                        voting='soft',\n",
    "                        weights=[2, 1, 1]\n",
    "                        )"
   ]
  },
  {
   "cell_type": "markdown",
   "metadata": {},
   "source": [
    "### Set up repeated stratified k-fold Cross-Validation process and lists to store the results"
   ]
  },
  {
   "cell_type": "code",
   "execution_count": 240,
   "metadata": {},
   "outputs": [],
   "source": [
    "# List to store AUC (Area Under the ROC Curve) obtained from each fold in the cross-val\n",
    "aucs = []\n",
    "\n",
    "# List to store predictions\n",
    "predictions = []\n",
    "\n",
    "# Cross Validation\n",
    "kf = RepeatedStratifiedKFold(n_splits=5, n_repeats=3, random_state=42)\n"
   ]
  },
  {
   "cell_type": "markdown",
   "metadata": {},
   "source": [
    "### Fit and run the model"
   ]
  },
  {
   "cell_type": "code",
   "execution_count": 241,
   "metadata": {},
   "outputs": [],
   "source": [
    "for train_index, test_index in kf.split(X_train, y_train):\n",
    "    X_train_kf, X_val_kf = X_train.iloc[train_index], X_train.iloc[test_index]\n",
    "    y_train_kf, y_val_kf = y_train.iloc[train_index], y_train.iloc[test_index]\n",
    "\n",
    "    # Fit the model\n",
    "    vote.fit(X_train_kf, y_train_kf)\n",
    "\n",
    "    # Predict probabilities for validation set\n",
    "    y_pred_val = vote.predict_proba(X_val_kf)[:, 1]\n",
    "\n",
    "    # Calculate AUC for validation set\n",
    "    auc_val = roc_auc_score(y_val_kf, y_pred_val)\n",
    "    aucs.append(auc_val)\n",
    "\n",
    "    # Predict probabilities for test set (df_test)\n",
    "    y_pred_test = vote.predict_proba(X_test)[:, 1]\n",
    "    predictions.append(y_pred_test)"
   ]
  },
  {
   "cell_type": "markdown",
   "metadata": {},
   "source": [
    "### Interpreting the AUC Scores"
   ]
  },
  {
   "cell_type": "code",
   "execution_count": 251,
   "metadata": {},
   "outputs": [
    {
     "name": "stdout",
     "output_type": "stream",
     "text": [
      "AUC for validation set 0: 0.8885280782865606\n",
      "AUC for validation set 1: 0.8880361097059754\n",
      "AUC for validation set 2: 0.8863708428139061\n",
      "AUC for validation set 3: 0.8887927098040174\n",
      "AUC for validation set 4: 0.887369014560498\n",
      "AUC for validation set 5: 0.8884002380862965\n",
      "AUC for validation set 6: 0.890319279093469\n",
      "AUC for validation set 7: 0.888793557333519\n",
      "AUC for validation set 8: 0.8833125203603042\n",
      "AUC for validation set 9: 0.888251968835527\n",
      "AUC for validation set 10: 0.8844197202615853\n",
      "AUC for validation set 11: 0.8878834314911386\n",
      "AUC for validation set 12: 0.8862994249811174\n",
      "AUC for validation set 13: 0.8882842557903217\n",
      "AUC for validation set 14: 0.8917177496702374\n",
      "\n",
      " The highest score of 0.8917177496702374 was achieved on validation set 14.\n"
     ]
    }
   ],
   "source": [
    "max_auc = 0\n",
    "max_index = 0\n",
    "for i, score in enumerate(aucs):\n",
    "    print(f\"AUC for validation set {i}: {score}\")\n",
    "    if score > max_auc:\n",
    "        max_auc, max_index = score, i\n",
    "\n",
    "\n",
    "print('\\n', f'The highest score of {max_auc} was achieved on validation set {i}.')"
   ]
  },
  {
   "cell_type": "code",
   "execution_count": 256,
   "metadata": {},
   "outputs": [
    {
     "data": {
      "image/png": "[encoded data removed]",
      "text/plain": [
       "<Figure size 800x600 with 1 Axes>"
      ]
     },
     "metadata": {},
     "output_type": "display_data"
    }
   ],
   "source": [
    "plt.figure(figsize=(8, 6))\n",
    "plt.plot(range(1, len(aucs) + 1), aucs, marker='o', linestyle='-')\n",
    "plt.title('AUC Scores over Iterations')\n",
    "plt.xlabel('Iteration')\n",
    "plt.ylabel('AUC Score')\n",
    "plt.grid(True)\n",
    "plt.show()"
   ]
  },
  {
   "cell_type": "markdown",
   "metadata": {},
   "source": [
    "### Turn Predictions into Dataframe"
   ]
  },
  {
   "cell_type": "code",
   "execution_count": 264,
   "metadata": {},
   "outputs": [
    {
     "data": {
      "text/html": [
       "<div>\n",
       "<style scoped>\n",
       "    .dataframe tbody tr th:only-of-type {\n",
       "        vertical-align: middle;\n",
       "    }\n",
       "\n",
       "    .dataframe tbody tr th {\n",
       "        vertical-align: top;\n",
       "    }\n",
       "\n",
       "    .dataframe thead th {\n",
       "        text-align: right;\n",
       "    }\n",
       "</style>\n",
       "<table border=\"1\" class=\"dataframe\">\n",
       "  <thead>\n",
       "    <tr style=\"text-align: right;\">\n",
       "      <th></th>\n",
       "      <th>id</th>\n",
       "      <th>Exited</th>\n",
       "    </tr>\n",
       "  </thead>\n",
       "  <tbody>\n",
       "    <tr>\n",
       "      <th>0</th>\n",
       "      <td>165034</td>\n",
       "      <td>0.029928</td>\n",
       "    </tr>\n",
       "    <tr>\n",
       "      <th>1</th>\n",
       "      <td>165035</td>\n",
       "      <td>0.835176</td>\n",
       "    </tr>\n",
       "    <tr>\n",
       "      <th>2</th>\n",
       "      <td>165036</td>\n",
       "      <td>0.020069</td>\n",
       "    </tr>\n",
       "    <tr>\n",
       "      <th>3</th>\n",
       "      <td>165037</td>\n",
       "      <td>0.213110</td>\n",
       "    </tr>\n",
       "    <tr>\n",
       "      <th>4</th>\n",
       "      <td>165038</td>\n",
       "      <td>0.351489</td>\n",
       "    </tr>\n",
       "  </tbody>\n",
       "</table>\n",
       "</div>"
      ],
      "text/plain": [
       "       id    Exited\n",
       "0  165034  0.029928\n",
       "1  165035  0.835176\n",
       "2  165036  0.020069\n",
       "3  165037  0.213110\n",
       "4  165038  0.351489"
      ]
     },
     "execution_count": 264,
     "metadata": {},
     "output_type": "execute_result"
    }
   ],
   "source": [
    "avg_submission = pd.DataFrame(predictions).mean(axis=0)\n",
    "\n",
    "submission[\"Exited\"] = avg_submission\n",
    "submission.head()\n"
   ]
  },
  {
   "cell_type": "markdown",
   "metadata": {},
   "source": [
    "## 6. Submission"
   ]
  },
  {
   "cell_type": "code",
   "execution_count": 268,
   "metadata": {},
   "outputs": [],
   "source": [
    "# Make submissions folder\n",
    "submission_path = os.path.abspath(os.path.join(os.getcwd(), '..', 'submissions'))\n",
    "os.makedirs((submission_path), exist_ok=True)\n"
   ]
  },
  {
   "cell_type": "code",
   "execution_count": 269,
   "metadata": {},
   "outputs": [],
   "source": [
    "# Save submission to CSV\n",
    "submission.to_csv(os.path.join(submission_path, 'submission.csv'), index=False)"
   ]
  },
  {
   "cell_type": "code",
   "execution_count": null,
   "metadata": {},
   "outputs": [],
   "source": []
  }
 ],
 "metadata": {
  "kernelspec": {
   "display_name": "kaggle_comp",
   "language": "python",
   "name": "python3"
  },
  "language_info": {
   "codemirror_mode": {
    "name": "ipython",
    "version": 3
   },
   "file_extension": ".py",
   "mimetype": "text/x-python",
   "name": "python",
   "nbconvert_exporter": "python",
   "pygments_lexer": "ipython3",
   "version": "3.10.6"
  }
 },
 "nbformat": 4,
 "nbformat_minor": 2
}
