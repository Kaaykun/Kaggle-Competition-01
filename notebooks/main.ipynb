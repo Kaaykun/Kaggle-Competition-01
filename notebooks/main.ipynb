{
 "cells": [
  {
   "cell_type": "markdown",
   "metadata": {},
   "source": [
    "## 1. Notebook Preparation"
   ]
  },
  {
   "cell_type": "markdown",
   "metadata": {},
   "source": [
    "### Import dependencies"
   ]
  },
  {
   "cell_type": "code",
   "execution_count": 52,
   "metadata": {},
   "outputs": [],
   "source": [
    "import os\n",
    "import zipfile\n",
    "import numpy as np\n",
    "import pandas as pd\n",
    "from kaggle.api.kaggle_api_extended import KaggleApi"
   ]
  },
  {
   "cell_type": "markdown",
   "metadata": {},
   "source": [
    "### Initialize constants and paths"
   ]
  },
  {
   "cell_type": "code",
   "execution_count": 21,
   "metadata": {},
   "outputs": [],
   "source": [
    "# Data\n",
    "COMPETITION_NAME = 'playground-series-s4e1'\n",
    "ORIGINAL_DATASET = 'shubhammeshram579/bank-customer-churn-prediction'\n",
    "\n",
    "# Paths\n",
    "MAIN_PATH = os.path.abspath(os.path.join(os.getcwd(), '..', 'data'))"
   ]
  },
  {
   "cell_type": "markdown",
   "metadata": {},
   "source": [
    "### Download the competition files"
   ]
  },
  {
   "cell_type": "code",
   "execution_count": 24,
   "metadata": {},
   "outputs": [
    {
     "name": "stdout",
     "output_type": "stream",
     "text": [
      "Warning: Your Kaggle API key is readable by other users on this system! To fix this, you can run 'chmod 600 /home/jarisfenner/.kaggle/kaggle.json'\n"
     ]
    }
   ],
   "source": [
    "if not os.path.exists(MAIN_PATH):\n",
    "    os.makedirs(MAIN_PATH, exist_ok=True)\n",
    "\n",
    "api = KaggleApi()\n",
    "api.authenticate()\n",
    "\n",
    "# Download the dataset to the local folder and unzip\n",
    "api.dataset_download_files(ORIGINAL_DATASET, path=MAIN_PATH, unzip=True)\n",
    "api.competition_download_files(COMPETITION_NAME, path=MAIN_PATH)\n",
    "\n",
    "zip_file_path = os.path.join(MAIN_PATH, f'{COMPETITION_NAME}.zip')\n",
    "\n",
    "with zipfile.ZipFile(zip_file_path, 'r') as zip_ref:\n",
    "    zip_ref.extractall(MAIN_PATH)\n",
    "\n",
    "os.remove(zip_file_path)"
   ]
  },
  {
   "cell_type": "markdown",
   "metadata": {},
   "source": [
    "## 2. Load Data"
   ]
  },
  {
   "cell_type": "code",
   "execution_count": 25,
   "metadata": {},
   "outputs": [],
   "source": [
    "original_data = pd.read_csv(f'{MAIN_PATH}/Churn_Modelling.csv')\n",
    "\n",
    "df_train = pd.read_csv(f'{MAIN_PATH}/train.csv')\n",
    "df_test = pd.read_csv(f'{MAIN_PATH}/test.csv')\n",
    "\n",
    "submission = pd.read_csv(f'{MAIN_PATH}/sample_submission.csv')"
   ]
  },
  {
   "cell_type": "markdown",
   "metadata": {},
   "source": [
    "## 3. Data Exploration & Upsizing Train Set"
   ]
  },
  {
   "cell_type": "markdown",
   "metadata": {},
   "source": [
    "### Exploration: Original Data"
   ]
  },
  {
   "cell_type": "code",
   "execution_count": 29,
   "metadata": {},
   "outputs": [
    {
     "data": {
      "text/plain": [
       "(10002, 14)"
      ]
     },
     "execution_count": 29,
     "metadata": {},
     "output_type": "execute_result"
    }
   ],
   "source": [
    "original_data.shape"
   ]
  },
  {
   "cell_type": "code",
   "execution_count": 30,
   "metadata": {},
   "outputs": [
    {
     "data": {
      "text/html": [
       "<div>\n",
       "<style scoped>\n",
       "    .dataframe tbody tr th:only-of-type {\n",
       "        vertical-align: middle;\n",
       "    }\n",
       "\n",
       "    .dataframe tbody tr th {\n",
       "        vertical-align: top;\n",
       "    }\n",
       "\n",
       "    .dataframe thead th {\n",
       "        text-align: right;\n",
       "    }\n",
       "</style>\n",
       "<table border=\"1\" class=\"dataframe\">\n",
       "  <thead>\n",
       "    <tr style=\"text-align: right;\">\n",
       "      <th></th>\n",
       "      <th>RowNumber</th>\n",
       "      <th>CustomerId</th>\n",
       "      <th>Surname</th>\n",
       "      <th>CreditScore</th>\n",
       "      <th>Geography</th>\n",
       "      <th>Gender</th>\n",
       "      <th>Age</th>\n",
       "      <th>Tenure</th>\n",
       "      <th>Balance</th>\n",
       "      <th>NumOfProducts</th>\n",
       "      <th>HasCrCard</th>\n",
       "      <th>IsActiveMember</th>\n",
       "      <th>EstimatedSalary</th>\n",
       "      <th>Exited</th>\n",
       "    </tr>\n",
       "  </thead>\n",
       "  <tbody>\n",
       "    <tr>\n",
       "      <th>0</th>\n",
       "      <td>1</td>\n",
       "      <td>15634602</td>\n",
       "      <td>Hargrave</td>\n",
       "      <td>619</td>\n",
       "      <td>France</td>\n",
       "      <td>Female</td>\n",
       "      <td>42.0</td>\n",
       "      <td>2</td>\n",
       "      <td>0.00</td>\n",
       "      <td>1</td>\n",
       "      <td>1.0</td>\n",
       "      <td>1.0</td>\n",
       "      <td>101348.88</td>\n",
       "      <td>1</td>\n",
       "    </tr>\n",
       "    <tr>\n",
       "      <th>1</th>\n",
       "      <td>2</td>\n",
       "      <td>15647311</td>\n",
       "      <td>Hill</td>\n",
       "      <td>608</td>\n",
       "      <td>Spain</td>\n",
       "      <td>Female</td>\n",
       "      <td>41.0</td>\n",
       "      <td>1</td>\n",
       "      <td>83807.86</td>\n",
       "      <td>1</td>\n",
       "      <td>0.0</td>\n",
       "      <td>1.0</td>\n",
       "      <td>112542.58</td>\n",
       "      <td>0</td>\n",
       "    </tr>\n",
       "    <tr>\n",
       "      <th>2</th>\n",
       "      <td>3</td>\n",
       "      <td>15619304</td>\n",
       "      <td>Onio</td>\n",
       "      <td>502</td>\n",
       "      <td>France</td>\n",
       "      <td>Female</td>\n",
       "      <td>42.0</td>\n",
       "      <td>8</td>\n",
       "      <td>159660.80</td>\n",
       "      <td>3</td>\n",
       "      <td>1.0</td>\n",
       "      <td>0.0</td>\n",
       "      <td>113931.57</td>\n",
       "      <td>1</td>\n",
       "    </tr>\n",
       "    <tr>\n",
       "      <th>3</th>\n",
       "      <td>4</td>\n",
       "      <td>15701354</td>\n",
       "      <td>Boni</td>\n",
       "      <td>699</td>\n",
       "      <td>France</td>\n",
       "      <td>Female</td>\n",
       "      <td>39.0</td>\n",
       "      <td>1</td>\n",
       "      <td>0.00</td>\n",
       "      <td>2</td>\n",
       "      <td>0.0</td>\n",
       "      <td>0.0</td>\n",
       "      <td>93826.63</td>\n",
       "      <td>0</td>\n",
       "    </tr>\n",
       "    <tr>\n",
       "      <th>4</th>\n",
       "      <td>5</td>\n",
       "      <td>15737888</td>\n",
       "      <td>Mitchell</td>\n",
       "      <td>850</td>\n",
       "      <td>Spain</td>\n",
       "      <td>Female</td>\n",
       "      <td>43.0</td>\n",
       "      <td>2</td>\n",
       "      <td>125510.82</td>\n",
       "      <td>1</td>\n",
       "      <td>NaN</td>\n",
       "      <td>1.0</td>\n",
       "      <td>79084.10</td>\n",
       "      <td>0</td>\n",
       "    </tr>\n",
       "  </tbody>\n",
       "</table>\n",
       "</div>"
      ],
      "text/plain": [
       "   RowNumber  CustomerId   Surname  CreditScore Geography  Gender   Age  \\\n",
       "0          1    15634602  Hargrave          619    France  Female  42.0   \n",
       "1          2    15647311      Hill          608     Spain  Female  41.0   \n",
       "2          3    15619304      Onio          502    France  Female  42.0   \n",
       "3          4    15701354      Boni          699    France  Female  39.0   \n",
       "4          5    15737888  Mitchell          850     Spain  Female  43.0   \n",
       "\n",
       "   Tenure    Balance  NumOfProducts  HasCrCard  IsActiveMember  \\\n",
       "0       2       0.00              1        1.0             1.0   \n",
       "1       1   83807.86              1        0.0             1.0   \n",
       "2       8  159660.80              3        1.0             0.0   \n",
       "3       1       0.00              2        0.0             0.0   \n",
       "4       2  125510.82              1        NaN             1.0   \n",
       "\n",
       "   EstimatedSalary  Exited  \n",
       "0        101348.88       1  \n",
       "1        112542.58       0  \n",
       "2        113931.57       1  \n",
       "3         93826.63       0  \n",
       "4         79084.10       0  "
      ]
     },
     "execution_count": 30,
     "metadata": {},
     "output_type": "execute_result"
    }
   ],
   "source": [
    "original_data.head()"
   ]
  },
  {
   "cell_type": "code",
   "execution_count": 41,
   "metadata": {},
   "outputs": [
    {
     "data": {
      "text/plain": [
       "2"
      ]
     },
     "execution_count": 41,
     "metadata": {},
     "output_type": "execute_result"
    }
   ],
   "source": [
    "original_data.duplicated().sum()"
   ]
  },
  {
   "cell_type": "code",
   "execution_count": 42,
   "metadata": {},
   "outputs": [
    {
     "data": {
      "text/plain": [
       "RowNumber          0\n",
       "CustomerId         0\n",
       "Surname            0\n",
       "CreditScore        0\n",
       "Geography          1\n",
       "Gender             0\n",
       "Age                1\n",
       "Tenure             0\n",
       "Balance            0\n",
       "NumOfProducts      0\n",
       "HasCrCard          1\n",
       "IsActiveMember     1\n",
       "EstimatedSalary    0\n",
       "Exited             0\n",
       "dtype: int64"
      ]
     },
     "execution_count": 42,
     "metadata": {},
     "output_type": "execute_result"
    }
   ],
   "source": [
    "original_data.isna().sum()"
   ]
  },
  {
   "cell_type": "markdown",
   "metadata": {},
   "source": [
    "### Exploration: Train Set"
   ]
  },
  {
   "cell_type": "code",
   "execution_count": 27,
   "metadata": {},
   "outputs": [
    {
     "data": {
      "text/plain": [
       "(165034, 14)"
      ]
     },
     "execution_count": 27,
     "metadata": {},
     "output_type": "execute_result"
    }
   ],
   "source": [
    "df_train.shape"
   ]
  },
  {
   "cell_type": "code",
   "execution_count": 28,
   "metadata": {},
   "outputs": [
    {
     "data": {
      "text/html": [
       "<div>\n",
       "<style scoped>\n",
       "    .dataframe tbody tr th:only-of-type {\n",
       "        vertical-align: middle;\n",
       "    }\n",
       "\n",
       "    .dataframe tbody tr th {\n",
       "        vertical-align: top;\n",
       "    }\n",
       "\n",
       "    .dataframe thead th {\n",
       "        text-align: right;\n",
       "    }\n",
       "</style>\n",
       "<table border=\"1\" class=\"dataframe\">\n",
       "  <thead>\n",
       "    <tr style=\"text-align: right;\">\n",
       "      <th></th>\n",
       "      <th>id</th>\n",
       "      <th>CustomerId</th>\n",
       "      <th>Surname</th>\n",
       "      <th>CreditScore</th>\n",
       "      <th>Geography</th>\n",
       "      <th>Gender</th>\n",
       "      <th>Age</th>\n",
       "      <th>Tenure</th>\n",
       "      <th>Balance</th>\n",
       "      <th>NumOfProducts</th>\n",
       "      <th>HasCrCard</th>\n",
       "      <th>IsActiveMember</th>\n",
       "      <th>EstimatedSalary</th>\n",
       "      <th>Exited</th>\n",
       "    </tr>\n",
       "  </thead>\n",
       "  <tbody>\n",
       "    <tr>\n",
       "      <th>0</th>\n",
       "      <td>0</td>\n",
       "      <td>15674932</td>\n",
       "      <td>Okwudilichukwu</td>\n",
       "      <td>668</td>\n",
       "      <td>France</td>\n",
       "      <td>Male</td>\n",
       "      <td>33.0</td>\n",
       "      <td>3</td>\n",
       "      <td>0.00</td>\n",
       "      <td>2</td>\n",
       "      <td>1.0</td>\n",
       "      <td>0.0</td>\n",
       "      <td>181449.97</td>\n",
       "      <td>0</td>\n",
       "    </tr>\n",
       "    <tr>\n",
       "      <th>1</th>\n",
       "      <td>1</td>\n",
       "      <td>15749177</td>\n",
       "      <td>Okwudiliolisa</td>\n",
       "      <td>627</td>\n",
       "      <td>France</td>\n",
       "      <td>Male</td>\n",
       "      <td>33.0</td>\n",
       "      <td>1</td>\n",
       "      <td>0.00</td>\n",
       "      <td>2</td>\n",
       "      <td>1.0</td>\n",
       "      <td>1.0</td>\n",
       "      <td>49503.50</td>\n",
       "      <td>0</td>\n",
       "    </tr>\n",
       "    <tr>\n",
       "      <th>2</th>\n",
       "      <td>2</td>\n",
       "      <td>15694510</td>\n",
       "      <td>Hsueh</td>\n",
       "      <td>678</td>\n",
       "      <td>France</td>\n",
       "      <td>Male</td>\n",
       "      <td>40.0</td>\n",
       "      <td>10</td>\n",
       "      <td>0.00</td>\n",
       "      <td>2</td>\n",
       "      <td>1.0</td>\n",
       "      <td>0.0</td>\n",
       "      <td>184866.69</td>\n",
       "      <td>0</td>\n",
       "    </tr>\n",
       "    <tr>\n",
       "      <th>3</th>\n",
       "      <td>3</td>\n",
       "      <td>15741417</td>\n",
       "      <td>Kao</td>\n",
       "      <td>581</td>\n",
       "      <td>France</td>\n",
       "      <td>Male</td>\n",
       "      <td>34.0</td>\n",
       "      <td>2</td>\n",
       "      <td>148882.54</td>\n",
       "      <td>1</td>\n",
       "      <td>1.0</td>\n",
       "      <td>1.0</td>\n",
       "      <td>84560.88</td>\n",
       "      <td>0</td>\n",
       "    </tr>\n",
       "    <tr>\n",
       "      <th>4</th>\n",
       "      <td>4</td>\n",
       "      <td>15766172</td>\n",
       "      <td>Chiemenam</td>\n",
       "      <td>716</td>\n",
       "      <td>Spain</td>\n",
       "      <td>Male</td>\n",
       "      <td>33.0</td>\n",
       "      <td>5</td>\n",
       "      <td>0.00</td>\n",
       "      <td>2</td>\n",
       "      <td>1.0</td>\n",
       "      <td>1.0</td>\n",
       "      <td>15068.83</td>\n",
       "      <td>0</td>\n",
       "    </tr>\n",
       "  </tbody>\n",
       "</table>\n",
       "</div>"
      ],
      "text/plain": [
       "   id  CustomerId         Surname  CreditScore Geography Gender   Age  Tenure  \\\n",
       "0   0    15674932  Okwudilichukwu          668    France   Male  33.0       3   \n",
       "1   1    15749177   Okwudiliolisa          627    France   Male  33.0       1   \n",
       "2   2    15694510           Hsueh          678    France   Male  40.0      10   \n",
       "3   3    15741417             Kao          581    France   Male  34.0       2   \n",
       "4   4    15766172       Chiemenam          716     Spain   Male  33.0       5   \n",
       "\n",
       "     Balance  NumOfProducts  HasCrCard  IsActiveMember  EstimatedSalary  \\\n",
       "0       0.00              2        1.0             0.0        181449.97   \n",
       "1       0.00              2        1.0             1.0         49503.50   \n",
       "2       0.00              2        1.0             0.0        184866.69   \n",
       "3  148882.54              1        1.0             1.0         84560.88   \n",
       "4       0.00              2        1.0             1.0         15068.83   \n",
       "\n",
       "   Exited  \n",
       "0       0  \n",
       "1       0  \n",
       "2       0  \n",
       "3       0  \n",
       "4       0  "
      ]
     },
     "execution_count": 28,
     "metadata": {},
     "output_type": "execute_result"
    }
   ],
   "source": [
    "df_train.head()"
   ]
  },
  {
   "cell_type": "code",
   "execution_count": 36,
   "metadata": {},
   "outputs": [
    {
     "data": {
      "text/plain": [
       "0"
      ]
     },
     "execution_count": 36,
     "metadata": {},
     "output_type": "execute_result"
    }
   ],
   "source": [
    "df_train.duplicated().sum()"
   ]
  },
  {
   "cell_type": "code",
   "execution_count": 37,
   "metadata": {},
   "outputs": [
    {
     "data": {
      "text/plain": [
       "id                 0\n",
       "CustomerId         0\n",
       "Surname            0\n",
       "CreditScore        0\n",
       "Geography          0\n",
       "Gender             0\n",
       "Age                0\n",
       "Tenure             0\n",
       "Balance            0\n",
       "NumOfProducts      0\n",
       "HasCrCard          0\n",
       "IsActiveMember     0\n",
       "EstimatedSalary    0\n",
       "Exited             0\n",
       "dtype: int64"
      ]
     },
     "execution_count": 37,
     "metadata": {},
     "output_type": "execute_result"
    }
   ],
   "source": [
    "df_train.isna().sum()"
   ]
  },
  {
   "cell_type": "markdown",
   "metadata": {},
   "source": [
    "### Exploration: Test Set"
   ]
  },
  {
   "cell_type": "code",
   "execution_count": 31,
   "metadata": {},
   "outputs": [
    {
     "data": {
      "text/plain": [
       "(110023, 13)"
      ]
     },
     "execution_count": 31,
     "metadata": {},
     "output_type": "execute_result"
    }
   ],
   "source": [
    "df_test.shape"
   ]
  },
  {
   "cell_type": "code",
   "execution_count": 32,
   "metadata": {},
   "outputs": [
    {
     "data": {
      "text/html": [
       "<div>\n",
       "<style scoped>\n",
       "    .dataframe tbody tr th:only-of-type {\n",
       "        vertical-align: middle;\n",
       "    }\n",
       "\n",
       "    .dataframe tbody tr th {\n",
       "        vertical-align: top;\n",
       "    }\n",
       "\n",
       "    .dataframe thead th {\n",
       "        text-align: right;\n",
       "    }\n",
       "</style>\n",
       "<table border=\"1\" class=\"dataframe\">\n",
       "  <thead>\n",
       "    <tr style=\"text-align: right;\">\n",
       "      <th></th>\n",
       "      <th>id</th>\n",
       "      <th>CustomerId</th>\n",
       "      <th>Surname</th>\n",
       "      <th>CreditScore</th>\n",
       "      <th>Geography</th>\n",
       "      <th>Gender</th>\n",
       "      <th>Age</th>\n",
       "      <th>Tenure</th>\n",
       "      <th>Balance</th>\n",
       "      <th>NumOfProducts</th>\n",
       "      <th>HasCrCard</th>\n",
       "      <th>IsActiveMember</th>\n",
       "      <th>EstimatedSalary</th>\n",
       "    </tr>\n",
       "  </thead>\n",
       "  <tbody>\n",
       "    <tr>\n",
       "      <th>0</th>\n",
       "      <td>165034</td>\n",
       "      <td>15773898</td>\n",
       "      <td>Lucchese</td>\n",
       "      <td>586</td>\n",
       "      <td>France</td>\n",
       "      <td>Female</td>\n",
       "      <td>23.0</td>\n",
       "      <td>2</td>\n",
       "      <td>0.00</td>\n",
       "      <td>2</td>\n",
       "      <td>0.0</td>\n",
       "      <td>1.0</td>\n",
       "      <td>160976.75</td>\n",
       "    </tr>\n",
       "    <tr>\n",
       "      <th>1</th>\n",
       "      <td>165035</td>\n",
       "      <td>15782418</td>\n",
       "      <td>Nott</td>\n",
       "      <td>683</td>\n",
       "      <td>France</td>\n",
       "      <td>Female</td>\n",
       "      <td>46.0</td>\n",
       "      <td>2</td>\n",
       "      <td>0.00</td>\n",
       "      <td>1</td>\n",
       "      <td>1.0</td>\n",
       "      <td>0.0</td>\n",
       "      <td>72549.27</td>\n",
       "    </tr>\n",
       "    <tr>\n",
       "      <th>2</th>\n",
       "      <td>165036</td>\n",
       "      <td>15807120</td>\n",
       "      <td>K?</td>\n",
       "      <td>656</td>\n",
       "      <td>France</td>\n",
       "      <td>Female</td>\n",
       "      <td>34.0</td>\n",
       "      <td>7</td>\n",
       "      <td>0.00</td>\n",
       "      <td>2</td>\n",
       "      <td>1.0</td>\n",
       "      <td>0.0</td>\n",
       "      <td>138882.09</td>\n",
       "    </tr>\n",
       "    <tr>\n",
       "      <th>3</th>\n",
       "      <td>165037</td>\n",
       "      <td>15808905</td>\n",
       "      <td>O'Donnell</td>\n",
       "      <td>681</td>\n",
       "      <td>France</td>\n",
       "      <td>Male</td>\n",
       "      <td>36.0</td>\n",
       "      <td>8</td>\n",
       "      <td>0.00</td>\n",
       "      <td>1</td>\n",
       "      <td>1.0</td>\n",
       "      <td>0.0</td>\n",
       "      <td>113931.57</td>\n",
       "    </tr>\n",
       "    <tr>\n",
       "      <th>4</th>\n",
       "      <td>165038</td>\n",
       "      <td>15607314</td>\n",
       "      <td>Higgins</td>\n",
       "      <td>752</td>\n",
       "      <td>Germany</td>\n",
       "      <td>Male</td>\n",
       "      <td>38.0</td>\n",
       "      <td>10</td>\n",
       "      <td>121263.62</td>\n",
       "      <td>1</td>\n",
       "      <td>1.0</td>\n",
       "      <td>0.0</td>\n",
       "      <td>139431.00</td>\n",
       "    </tr>\n",
       "  </tbody>\n",
       "</table>\n",
       "</div>"
      ],
      "text/plain": [
       "       id  CustomerId    Surname  CreditScore Geography  Gender   Age  Tenure  \\\n",
       "0  165034    15773898   Lucchese          586    France  Female  23.0       2   \n",
       "1  165035    15782418       Nott          683    France  Female  46.0       2   \n",
       "2  165036    15807120         K?          656    France  Female  34.0       7   \n",
       "3  165037    15808905  O'Donnell          681    France    Male  36.0       8   \n",
       "4  165038    15607314    Higgins          752   Germany    Male  38.0      10   \n",
       "\n",
       "     Balance  NumOfProducts  HasCrCard  IsActiveMember  EstimatedSalary  \n",
       "0       0.00              2        0.0             1.0        160976.75  \n",
       "1       0.00              1        1.0             0.0         72549.27  \n",
       "2       0.00              2        1.0             0.0        138882.09  \n",
       "3       0.00              1        1.0             0.0        113931.57  \n",
       "4  121263.62              1        1.0             0.0        139431.00  "
      ]
     },
     "execution_count": 32,
     "metadata": {},
     "output_type": "execute_result"
    }
   ],
   "source": [
    "df_test.head()"
   ]
  },
  {
   "cell_type": "code",
   "execution_count": 40,
   "metadata": {},
   "outputs": [
    {
     "data": {
      "text/plain": [
       "0"
      ]
     },
     "execution_count": 40,
     "metadata": {},
     "output_type": "execute_result"
    }
   ],
   "source": [
    "df_test.duplicated().sum()"
   ]
  },
  {
   "cell_type": "code",
   "execution_count": 39,
   "metadata": {},
   "outputs": [
    {
     "data": {
      "text/plain": [
       "id                 0\n",
       "CustomerId         0\n",
       "Surname            0\n",
       "CreditScore        0\n",
       "Geography          0\n",
       "Gender             0\n",
       "Age                0\n",
       "Tenure             0\n",
       "Balance            0\n",
       "NumOfProducts      0\n",
       "HasCrCard          0\n",
       "IsActiveMember     0\n",
       "EstimatedSalary    0\n",
       "dtype: int64"
      ]
     },
     "execution_count": 39,
     "metadata": {},
     "output_type": "execute_result"
    }
   ],
   "source": [
    "df_test.isna().sum()"
   ]
  },
  {
   "cell_type": "markdown",
   "metadata": {},
   "source": [
    "### Exploration: Sample Submission\n"
   ]
  },
  {
   "cell_type": "code",
   "execution_count": 35,
   "metadata": {},
   "outputs": [
    {
     "data": {
      "text/html": [
       "<div>\n",
       "<style scoped>\n",
       "    .dataframe tbody tr th:only-of-type {\n",
       "        vertical-align: middle;\n",
       "    }\n",
       "\n",
       "    .dataframe tbody tr th {\n",
       "        vertical-align: top;\n",
       "    }\n",
       "\n",
       "    .dataframe thead th {\n",
       "        text-align: right;\n",
       "    }\n",
       "</style>\n",
       "<table border=\"1\" class=\"dataframe\">\n",
       "  <thead>\n",
       "    <tr style=\"text-align: right;\">\n",
       "      <th></th>\n",
       "      <th>id</th>\n",
       "      <th>Exited</th>\n",
       "    </tr>\n",
       "  </thead>\n",
       "  <tbody>\n",
       "    <tr>\n",
       "      <th>0</th>\n",
       "      <td>165034</td>\n",
       "      <td>0.5</td>\n",
       "    </tr>\n",
       "    <tr>\n",
       "      <th>1</th>\n",
       "      <td>165035</td>\n",
       "      <td>0.5</td>\n",
       "    </tr>\n",
       "    <tr>\n",
       "      <th>2</th>\n",
       "      <td>165036</td>\n",
       "      <td>0.5</td>\n",
       "    </tr>\n",
       "    <tr>\n",
       "      <th>3</th>\n",
       "      <td>165037</td>\n",
       "      <td>0.5</td>\n",
       "    </tr>\n",
       "    <tr>\n",
       "      <th>4</th>\n",
       "      <td>165038</td>\n",
       "      <td>0.5</td>\n",
       "    </tr>\n",
       "  </tbody>\n",
       "</table>\n",
       "</div>"
      ],
      "text/plain": [
       "       id  Exited\n",
       "0  165034     0.5\n",
       "1  165035     0.5\n",
       "2  165036     0.5\n",
       "3  165037     0.5\n",
       "4  165038     0.5"
      ]
     },
     "execution_count": 35,
     "metadata": {},
     "output_type": "execute_result"
    }
   ],
   "source": [
    "submission.head()"
   ]
  },
  {
   "cell_type": "markdown",
   "metadata": {},
   "source": [
    "### Upsizing Train Set\n",
    "#### The provided train set from the competition is a synthetically-generated datasets that is based on the Churn Modelling dataset - also available on Kaggle. To improve model performance I am adding the original data to the competition data, as a larger training set helps the model extract information more reliably."
   ]
  },
  {
   "cell_type": "code",
   "execution_count": 43,
   "metadata": {},
   "outputs": [],
   "source": [
    "# Remove the ID / RowNumber column\n",
    "df_train = df_train.drop(\"id\", axis=1)\n",
    "original_data = original_data.drop(\"RowNumber\", axis=1)"
   ]
  },
  {
   "cell_type": "code",
   "execution_count": 44,
   "metadata": {},
   "outputs": [],
   "source": [
    "# Add original data to the train set\n",
    "df_train = pd.concat([df_train, original_data], axis=0)"
   ]
  },
  {
   "cell_type": "code",
   "execution_count": 46,
   "metadata": {},
   "outputs": [
    {
     "data": {
      "text/plain": [
       "(175036, 13)"
      ]
     },
     "execution_count": 46,
     "metadata": {},
     "output_type": "execute_result"
    }
   ],
   "source": [
    "df_train.shape\n"
   ]
  },
  {
   "cell_type": "code",
   "execution_count": 47,
   "metadata": {},
   "outputs": [
    {
     "data": {
      "text/plain": [
       "2"
      ]
     },
     "execution_count": 47,
     "metadata": {},
     "output_type": "execute_result"
    }
   ],
   "source": [
    "df_train.duplicated().sum()\n"
   ]
  },
  {
   "cell_type": "code",
   "execution_count": 48,
   "metadata": {},
   "outputs": [
    {
     "data": {
      "text/plain": [
       "CustomerId         0\n",
       "Surname            0\n",
       "CreditScore        0\n",
       "Geography          1\n",
       "Gender             0\n",
       "Age                1\n",
       "Tenure             0\n",
       "Balance            0\n",
       "NumOfProducts      0\n",
       "HasCrCard          1\n",
       "IsActiveMember     1\n",
       "EstimatedSalary    0\n",
       "Exited             0\n",
       "dtype: int64"
      ]
     },
     "execution_count": 48,
     "metadata": {},
     "output_type": "execute_result"
    }
   ],
   "source": [
    "df_train.isna().sum()\n"
   ]
  },
  {
   "cell_type": "markdown",
   "metadata": {},
   "source": [
    "#### There are some duplicated rows in the now upsized train set, as well as some rows with missing values:\n",
    "\n",
    "- The duplicated rows will be dropped to keep each row unique.\n",
    "- For the missing values, there are two options:\n",
    "  - Impute the missing data\n",
    "  - Drop the rows with missing data\n",
    "\n",
    "####  Since there is a negligible number of rows that have missing values, I chose to drop these as well."
   ]
  },
  {
   "cell_type": "code",
   "execution_count": 49,
   "metadata": {},
   "outputs": [],
   "source": [
    "df_train = df_train.drop_duplicates().dropna()\n"
   ]
  },
  {
   "cell_type": "code",
   "execution_count": 50,
   "metadata": {},
   "outputs": [
    {
     "data": {
      "text/plain": [
       "0"
      ]
     },
     "execution_count": 50,
     "metadata": {},
     "output_type": "execute_result"
    }
   ],
   "source": [
    "df_train.duplicated().sum()\n"
   ]
  },
  {
   "cell_type": "code",
   "execution_count": 51,
   "metadata": {},
   "outputs": [
    {
     "data": {
      "text/plain": [
       "CustomerId         0\n",
       "Surname            0\n",
       "CreditScore        0\n",
       "Geography          0\n",
       "Gender             0\n",
       "Age                0\n",
       "Tenure             0\n",
       "Balance            0\n",
       "NumOfProducts      0\n",
       "HasCrCard          0\n",
       "IsActiveMember     0\n",
       "EstimatedSalary    0\n",
       "Exited             0\n",
       "dtype: int64"
      ]
     },
     "execution_count": 51,
     "metadata": {},
     "output_type": "execute_result"
    }
   ],
   "source": [
    "df_train.isna().sum()"
   ]
  },
  {
   "cell_type": "markdown",
   "metadata": {},
   "source": [
    "### Exploration: Categorical Features"
   ]
  },
  {
   "cell_type": "code",
   "execution_count": 56,
   "metadata": {},
   "outputs": [],
   "source": [
    "categorical_data = df_train.select_dtypes(exclude=[np.number])"
   ]
  },
  {
   "cell_type": "code",
   "execution_count": 57,
   "metadata": {},
   "outputs": [
    {
     "data": {
      "text/html": [
       "<div>\n",
       "<style scoped>\n",
       "    .dataframe tbody tr th:only-of-type {\n",
       "        vertical-align: middle;\n",
       "    }\n",
       "\n",
       "    .dataframe tbody tr th {\n",
       "        vertical-align: top;\n",
       "    }\n",
       "\n",
       "    .dataframe thead th {\n",
       "        text-align: right;\n",
       "    }\n",
       "</style>\n",
       "<table border=\"1\" class=\"dataframe\">\n",
       "  <thead>\n",
       "    <tr style=\"text-align: right;\">\n",
       "      <th></th>\n",
       "      <th>Surname</th>\n",
       "      <th>Geography</th>\n",
       "      <th>Gender</th>\n",
       "    </tr>\n",
       "  </thead>\n",
       "  <tbody>\n",
       "    <tr>\n",
       "      <th>0</th>\n",
       "      <td>Okwudilichukwu</td>\n",
       "      <td>France</td>\n",
       "      <td>Male</td>\n",
       "    </tr>\n",
       "    <tr>\n",
       "      <th>1</th>\n",
       "      <td>Okwudiliolisa</td>\n",
       "      <td>France</td>\n",
       "      <td>Male</td>\n",
       "    </tr>\n",
       "    <tr>\n",
       "      <th>2</th>\n",
       "      <td>Hsueh</td>\n",
       "      <td>France</td>\n",
       "      <td>Male</td>\n",
       "    </tr>\n",
       "    <tr>\n",
       "      <th>3</th>\n",
       "      <td>Kao</td>\n",
       "      <td>France</td>\n",
       "      <td>Male</td>\n",
       "    </tr>\n",
       "    <tr>\n",
       "      <th>4</th>\n",
       "      <td>Chiemenam</td>\n",
       "      <td>Spain</td>\n",
       "      <td>Male</td>\n",
       "    </tr>\n",
       "  </tbody>\n",
       "</table>\n",
       "</div>"
      ],
      "text/plain": [
       "          Surname Geography Gender\n",
       "0  Okwudilichukwu    France   Male\n",
       "1   Okwudiliolisa    France   Male\n",
       "2           Hsueh    France   Male\n",
       "3             Kao    France   Male\n",
       "4       Chiemenam     Spain   Male"
      ]
     },
     "execution_count": 57,
     "metadata": {},
     "output_type": "execute_result"
    }
   ],
   "source": [
    "categorical_data.head()"
   ]
  },
  {
   "cell_type": "markdown",
   "metadata": {},
   "source": [
    "#### The surname feature is really not important to our model (and it's technically not categorical), so I'll drop it."
   ]
  },
  {
   "cell_type": "code",
   "execution_count": 58,
   "metadata": {},
   "outputs": [
    {
     "data": {
      "text/html": [
       "<div>\n",
       "<style scoped>\n",
       "    .dataframe tbody tr th:only-of-type {\n",
       "        vertical-align: middle;\n",
       "    }\n",
       "\n",
       "    .dataframe tbody tr th {\n",
       "        vertical-align: top;\n",
       "    }\n",
       "\n",
       "    .dataframe thead th {\n",
       "        text-align: right;\n",
       "    }\n",
       "</style>\n",
       "<table border=\"1\" class=\"dataframe\">\n",
       "  <thead>\n",
       "    <tr style=\"text-align: right;\">\n",
       "      <th></th>\n",
       "      <th>Geography</th>\n",
       "      <th>Gender</th>\n",
       "    </tr>\n",
       "  </thead>\n",
       "  <tbody>\n",
       "    <tr>\n",
       "      <th>0</th>\n",
       "      <td>France</td>\n",
       "      <td>Male</td>\n",
       "    </tr>\n",
       "    <tr>\n",
       "      <th>1</th>\n",
       "      <td>France</td>\n",
       "      <td>Male</td>\n",
       "    </tr>\n",
       "    <tr>\n",
       "      <th>2</th>\n",
       "      <td>France</td>\n",
       "      <td>Male</td>\n",
       "    </tr>\n",
       "    <tr>\n",
       "      <th>3</th>\n",
       "      <td>France</td>\n",
       "      <td>Male</td>\n",
       "    </tr>\n",
       "    <tr>\n",
       "      <th>4</th>\n",
       "      <td>Spain</td>\n",
       "      <td>Male</td>\n",
       "    </tr>\n",
       "  </tbody>\n",
       "</table>\n",
       "</div>"
      ],
      "text/plain": [
       "  Geography Gender\n",
       "0    France   Male\n",
       "1    France   Male\n",
       "2    France   Male\n",
       "3    France   Male\n",
       "4     Spain   Male"
      ]
     },
     "execution_count": 58,
     "metadata": {},
     "output_type": "execute_result"
    }
   ],
   "source": [
    "categorical_data = categorical_data.drop(\"Surname\", axis=1)\n",
    "categorical_data.head()"
   ]
  },
  {
   "cell_type": "markdown",
   "metadata": {},
   "source": [
    "### Exploration: Numerical Features"
   ]
  },
  {
   "cell_type": "code",
   "execution_count": 59,
   "metadata": {},
   "outputs": [],
   "source": [
    "numeric_data = df_train.select_dtypes(include=[np.number])\n"
   ]
  },
  {
   "cell_type": "code",
   "execution_count": 60,
   "metadata": {},
   "outputs": [
    {
     "data": {
      "text/html": [
       "<div>\n",
       "<style scoped>\n",
       "    .dataframe tbody tr th:only-of-type {\n",
       "        vertical-align: middle;\n",
       "    }\n",
       "\n",
       "    .dataframe tbody tr th {\n",
       "        vertical-align: top;\n",
       "    }\n",
       "\n",
       "    .dataframe thead th {\n",
       "        text-align: right;\n",
       "    }\n",
       "</style>\n",
       "<table border=\"1\" class=\"dataframe\">\n",
       "  <thead>\n",
       "    <tr style=\"text-align: right;\">\n",
       "      <th></th>\n",
       "      <th>CustomerId</th>\n",
       "      <th>CreditScore</th>\n",
       "      <th>Age</th>\n",
       "      <th>Tenure</th>\n",
       "      <th>Balance</th>\n",
       "      <th>NumOfProducts</th>\n",
       "      <th>HasCrCard</th>\n",
       "      <th>IsActiveMember</th>\n",
       "      <th>EstimatedSalary</th>\n",
       "      <th>Exited</th>\n",
       "    </tr>\n",
       "  </thead>\n",
       "  <tbody>\n",
       "    <tr>\n",
       "      <th>0</th>\n",
       "      <td>15674932</td>\n",
       "      <td>668</td>\n",
       "      <td>33.0</td>\n",
       "      <td>3</td>\n",
       "      <td>0.00</td>\n",
       "      <td>2</td>\n",
       "      <td>1.0</td>\n",
       "      <td>0.0</td>\n",
       "      <td>181449.97</td>\n",
       "      <td>0</td>\n",
       "    </tr>\n",
       "    <tr>\n",
       "      <th>1</th>\n",
       "      <td>15749177</td>\n",
       "      <td>627</td>\n",
       "      <td>33.0</td>\n",
       "      <td>1</td>\n",
       "      <td>0.00</td>\n",
       "      <td>2</td>\n",
       "      <td>1.0</td>\n",
       "      <td>1.0</td>\n",
       "      <td>49503.50</td>\n",
       "      <td>0</td>\n",
       "    </tr>\n",
       "    <tr>\n",
       "      <th>2</th>\n",
       "      <td>15694510</td>\n",
       "      <td>678</td>\n",
       "      <td>40.0</td>\n",
       "      <td>10</td>\n",
       "      <td>0.00</td>\n",
       "      <td>2</td>\n",
       "      <td>1.0</td>\n",
       "      <td>0.0</td>\n",
       "      <td>184866.69</td>\n",
       "      <td>0</td>\n",
       "    </tr>\n",
       "    <tr>\n",
       "      <th>3</th>\n",
       "      <td>15741417</td>\n",
       "      <td>581</td>\n",
       "      <td>34.0</td>\n",
       "      <td>2</td>\n",
       "      <td>148882.54</td>\n",
       "      <td>1</td>\n",
       "      <td>1.0</td>\n",
       "      <td>1.0</td>\n",
       "      <td>84560.88</td>\n",
       "      <td>0</td>\n",
       "    </tr>\n",
       "    <tr>\n",
       "      <th>4</th>\n",
       "      <td>15766172</td>\n",
       "      <td>716</td>\n",
       "      <td>33.0</td>\n",
       "      <td>5</td>\n",
       "      <td>0.00</td>\n",
       "      <td>2</td>\n",
       "      <td>1.0</td>\n",
       "      <td>1.0</td>\n",
       "      <td>15068.83</td>\n",
       "      <td>0</td>\n",
       "    </tr>\n",
       "  </tbody>\n",
       "</table>\n",
       "</div>"
      ],
      "text/plain": [
       "   CustomerId  CreditScore   Age  Tenure    Balance  NumOfProducts  HasCrCard  \\\n",
       "0    15674932          668  33.0       3       0.00              2        1.0   \n",
       "1    15749177          627  33.0       1       0.00              2        1.0   \n",
       "2    15694510          678  40.0      10       0.00              2        1.0   \n",
       "3    15741417          581  34.0       2  148882.54              1        1.0   \n",
       "4    15766172          716  33.0       5       0.00              2        1.0   \n",
       "\n",
       "   IsActiveMember  EstimatedSalary  Exited  \n",
       "0             0.0        181449.97       0  \n",
       "1             1.0         49503.50       0  \n",
       "2             0.0        184866.69       0  \n",
       "3             1.0         84560.88       0  \n",
       "4             1.0         15068.83       0  "
      ]
     },
     "execution_count": 60,
     "metadata": {},
     "output_type": "execute_result"
    }
   ],
   "source": [
    "numeric_data.head()\n"
   ]
  },
  {
   "cell_type": "code",
   "execution_count": 61,
   "metadata": {},
   "outputs": [
    {
     "data": {
      "text/html": [
       "<style type=\"text/css\">\n",
       "#T_6aff3_row0_col0, #T_6aff3_row1_col1, #T_6aff3_row2_col2, #T_6aff3_row3_col3, #T_6aff3_row4_col4, #T_6aff3_row5_col5, #T_6aff3_row6_col6, #T_6aff3_row7_col7, #T_6aff3_row8_col8, #T_6aff3_row9_col9 {\n",
       "  background-color: #b40426;\n",
       "  color: #f1f1f1;\n",
       "}\n",
       "#T_6aff3_row0_col1, #T_6aff3_row4_col1 {\n",
       "  background-color: #445acc;\n",
       "  color: #f1f1f1;\n",
       "}\n",
       "#T_6aff3_row0_col2 {\n",
       "  background-color: #5673e0;\n",
       "  color: #f1f1f1;\n",
       "}\n",
       "#T_6aff3_row0_col3, #T_6aff3_row1_col0, #T_6aff3_row1_col6, #T_6aff3_row2_col1 {\n",
       "  background-color: #3f53c6;\n",
       "  color: #f1f1f1;\n",
       "}\n",
       "#T_6aff3_row0_col4, #T_6aff3_row3_col4 {\n",
       "  background-color: #8fb1fe;\n",
       "  color: #000000;\n",
       "}\n",
       "#T_6aff3_row0_col5, #T_6aff3_row1_col4, #T_6aff3_row3_col5, #T_6aff3_row6_col5, #T_6aff3_row8_col4 {\n",
       "  background-color: #93b5fe;\n",
       "  color: #000000;\n",
       "}\n",
       "#T_6aff3_row0_col6, #T_6aff3_row0_col8, #T_6aff3_row2_col0, #T_6aff3_row4_col8, #T_6aff3_row5_col0, #T_6aff3_row6_col8, #T_6aff3_row7_col3, #T_6aff3_row8_col0 {\n",
       "  background-color: #3e51c5;\n",
       "  color: #f1f1f1;\n",
       "}\n",
       "#T_6aff3_row0_col7 {\n",
       "  background-color: #7093f3;\n",
       "  color: #f1f1f1;\n",
       "}\n",
       "#T_6aff3_row0_col9 {\n",
       "  background-color: #6e90f2;\n",
       "  color: #f1f1f1;\n",
       "}\n",
       "#T_6aff3_row1_col2, #T_6aff3_row3_col2 {\n",
       "  background-color: #536edd;\n",
       "  color: #f1f1f1;\n",
       "}\n",
       "#T_6aff3_row1_col3, #T_6aff3_row8_col3 {\n",
       "  background-color: #4055c8;\n",
       "  color: #f1f1f1;\n",
       "}\n",
       "#T_6aff3_row1_col5 {\n",
       "  background-color: #94b6ff;\n",
       "  color: #000000;\n",
       "}\n",
       "#T_6aff3_row1_col7, #T_6aff3_row8_col9 {\n",
       "  background-color: #7699f6;\n",
       "  color: #f1f1f1;\n",
       "}\n",
       "#T_6aff3_row1_col8, #T_6aff3_row2_col3, #T_6aff3_row2_col6, #T_6aff3_row3_col8, #T_6aff3_row4_col3 {\n",
       "  background-color: #3d50c3;\n",
       "  color: #f1f1f1;\n",
       "}\n",
       "#T_6aff3_row1_col9 {\n",
       "  background-color: #6a8bef;\n",
       "  color: #f1f1f1;\n",
       "}\n",
       "#T_6aff3_row2_col4 {\n",
       "  background-color: #a2c1ff;\n",
       "  color: #000000;\n",
       "}\n",
       "#T_6aff3_row2_col5 {\n",
       "  background-color: #799cf8;\n",
       "  color: #f1f1f1;\n",
       "}\n",
       "#T_6aff3_row2_col7 {\n",
       "  background-color: #7396f5;\n",
       "  color: #f1f1f1;\n",
       "}\n",
       "#T_6aff3_row2_col8, #T_6aff3_row4_col0, #T_6aff3_row4_col5, #T_6aff3_row4_col6, #T_6aff3_row5_col2, #T_6aff3_row5_col4, #T_6aff3_row5_col9, #T_6aff3_row6_col0, #T_6aff3_row7_col6, #T_6aff3_row7_col8, #T_6aff3_row7_col9, #T_6aff3_row9_col0, #T_6aff3_row9_col1, #T_6aff3_row9_col3, #T_6aff3_row9_col6, #T_6aff3_row9_col7 {\n",
       "  background-color: #3b4cc0;\n",
       "  color: #f1f1f1;\n",
       "}\n",
       "#T_6aff3_row2_col9 {\n",
       "  background-color: #cfdaea;\n",
       "  color: #000000;\n",
       "}\n",
       "#T_6aff3_row3_col0, #T_6aff3_row5_col8, #T_6aff3_row7_col0 {\n",
       "  background-color: #3c4ec2;\n",
       "  color: #f1f1f1;\n",
       "}\n",
       "#T_6aff3_row3_col1 {\n",
       "  background-color: #4358cb;\n",
       "  color: #f1f1f1;\n",
       "}\n",
       "#T_6aff3_row3_col6, #T_6aff3_row5_col3, #T_6aff3_row5_col6, #T_6aff3_row6_col1, #T_6aff3_row6_col3, #T_6aff3_row8_col1, #T_6aff3_row8_col6, #T_6aff3_row9_col8 {\n",
       "  background-color: #4257c9;\n",
       "  color: #f1f1f1;\n",
       "}\n",
       "#T_6aff3_row3_col7, #T_6aff3_row8_col7 {\n",
       "  background-color: #6f92f3;\n",
       "  color: #f1f1f1;\n",
       "}\n",
       "#T_6aff3_row3_col9, #T_6aff3_row6_col7, #T_6aff3_row6_col9 {\n",
       "  background-color: #6b8df0;\n",
       "  color: #f1f1f1;\n",
       "}\n",
       "#T_6aff3_row4_col2 {\n",
       "  background-color: #688aef;\n",
       "  color: #f1f1f1;\n",
       "}\n",
       "#T_6aff3_row4_col7 {\n",
       "  background-color: #6c8ff1;\n",
       "  color: #f1f1f1;\n",
       "}\n",
       "#T_6aff3_row4_col9 {\n",
       "  background-color: #97b8ff;\n",
       "  color: #000000;\n",
       "}\n",
       "#T_6aff3_row5_col1 {\n",
       "  background-color: #455cce;\n",
       "  color: #f1f1f1;\n",
       "}\n",
       "#T_6aff3_row5_col7 {\n",
       "  background-color: #7b9ff9;\n",
       "  color: #f1f1f1;\n",
       "}\n",
       "#T_6aff3_row6_col2 {\n",
       "  background-color: #516ddb;\n",
       "  color: #f1f1f1;\n",
       "}\n",
       "#T_6aff3_row6_col4 {\n",
       "  background-color: #8caffe;\n",
       "  color: #000000;\n",
       "}\n",
       "#T_6aff3_row7_col1 {\n",
       "  background-color: #465ecf;\n",
       "  color: #f1f1f1;\n",
       "}\n",
       "#T_6aff3_row7_col2 {\n",
       "  background-color: #5875e1;\n",
       "  color: #f1f1f1;\n",
       "}\n",
       "#T_6aff3_row7_col4 {\n",
       "  background-color: #8db0fe;\n",
       "  color: #000000;\n",
       "}\n",
       "#T_6aff3_row7_col5 {\n",
       "  background-color: #9bbcff;\n",
       "  color: #000000;\n",
       "}\n",
       "#T_6aff3_row8_col2 {\n",
       "  background-color: #5470de;\n",
       "  color: #f1f1f1;\n",
       "}\n",
       "#T_6aff3_row8_col5 {\n",
       "  background-color: #90b2fe;\n",
       "  color: #000000;\n",
       "}\n",
       "#T_6aff3_row9_col2 {\n",
       "  background-color: #bfd3f6;\n",
       "  color: #000000;\n",
       "}\n",
       "#T_6aff3_row9_col4 {\n",
       "  background-color: #b2ccfb;\n",
       "  color: #000000;\n",
       "}\n",
       "#T_6aff3_row9_col5 {\n",
       "  background-color: #5d7ce6;\n",
       "  color: #f1f1f1;\n",
       "}\n",
       "</style>\n",
       "<table id=\"T_6aff3\">\n",
       "  <thead>\n",
       "    <tr>\n",
       "      <th class=\"blank level0\" >&nbsp;</th>\n",
       "      <th id=\"T_6aff3_level0_col0\" class=\"col_heading level0 col0\" >CustomerId</th>\n",
       "      <th id=\"T_6aff3_level0_col1\" class=\"col_heading level0 col1\" >CreditScore</th>\n",
       "      <th id=\"T_6aff3_level0_col2\" class=\"col_heading level0 col2\" >Age</th>\n",
       "      <th id=\"T_6aff3_level0_col3\" class=\"col_heading level0 col3\" >Tenure</th>\n",
       "      <th id=\"T_6aff3_level0_col4\" class=\"col_heading level0 col4\" >Balance</th>\n",
       "      <th id=\"T_6aff3_level0_col5\" class=\"col_heading level0 col5\" >NumOfProducts</th>\n",
       "      <th id=\"T_6aff3_level0_col6\" class=\"col_heading level0 col6\" >HasCrCard</th>\n",
       "      <th id=\"T_6aff3_level0_col7\" class=\"col_heading level0 col7\" >IsActiveMember</th>\n",
       "      <th id=\"T_6aff3_level0_col8\" class=\"col_heading level0 col8\" >EstimatedSalary</th>\n",
       "      <th id=\"T_6aff3_level0_col9\" class=\"col_heading level0 col9\" >Exited</th>\n",
       "    </tr>\n",
       "  </thead>\n",
       "  <tbody>\n",
       "    <tr>\n",
       "      <th id=\"T_6aff3_level0_row0\" class=\"row_heading level0 row0\" >CustomerId</th>\n",
       "      <td id=\"T_6aff3_row0_col0\" class=\"data row0 col0\" >1.000000</td>\n",
       "      <td id=\"T_6aff3_row0_col1\" class=\"data row0 col1\" >0.007299</td>\n",
       "      <td id=\"T_6aff3_row0_col2\" class=\"data row0 col2\" >0.003073</td>\n",
       "      <td id=\"T_6aff3_row0_col3\" class=\"data row0 col3\" >-0.002053</td>\n",
       "      <td id=\"T_6aff3_row0_col4\" class=\"data row0 col4\" >-0.008836</td>\n",
       "      <td id=\"T_6aff3_row0_col5\" class=\"data row0 col5\" >0.005178</td>\n",
       "      <td id=\"T_6aff3_row0_col6\" class=\"data row0 col6\" >-0.005875</td>\n",
       "      <td id=\"T_6aff3_row0_col7\" class=\"data row0 col7\" >-0.002693</td>\n",
       "      <td id=\"T_6aff3_row0_col8\" class=\"data row0 col8\" >0.003875</td>\n",
       "      <td id=\"T_6aff3_row0_col9\" class=\"data row0 col9\" >-0.009723</td>\n",
       "    </tr>\n",
       "    <tr>\n",
       "      <th id=\"T_6aff3_level0_row1\" class=\"row_heading level0 row1\" >CreditScore</th>\n",
       "      <td id=\"T_6aff3_row1_col0\" class=\"data row1 col0\" >0.007299</td>\n",
       "      <td id=\"T_6aff3_row1_col1\" class=\"data row1 col1\" >1.000000</td>\n",
       "      <td id=\"T_6aff3_row1_col2\" class=\"data row1 col2\" >-0.008883</td>\n",
       "      <td id=\"T_6aff3_row1_col3\" class=\"data row1 col3\" >0.000950</td>\n",
       "      <td id=\"T_6aff3_row1_col4\" class=\"data row1 col4\" >0.005592</td>\n",
       "      <td id=\"T_6aff3_row1_col5\" class=\"data row1 col5\" >0.011605</td>\n",
       "      <td id=\"T_6aff3_row1_col6\" class=\"data row1 col6\" >-0.002607</td>\n",
       "      <td id=\"T_6aff3_row1_col7\" class=\"data row1 col7\" >0.015358</td>\n",
       "      <td id=\"T_6aff3_row1_col8\" class=\"data row1 col8\" >-0.000791</td>\n",
       "      <td id=\"T_6aff3_row1_col9\" class=\"data row1 col9\" >-0.027241</td>\n",
       "    </tr>\n",
       "    <tr>\n",
       "      <th id=\"T_6aff3_level0_row2\" class=\"row_heading level0 row2\" >Age</th>\n",
       "      <td id=\"T_6aff3_row2_col0\" class=\"data row2 col0\" >0.003073</td>\n",
       "      <td id=\"T_6aff3_row2_col1\" class=\"data row2 col1\" >-0.008883</td>\n",
       "      <td id=\"T_6aff3_row2_col2\" class=\"data row2 col2\" >1.000000</td>\n",
       "      <td id=\"T_6aff3_row2_col3\" class=\"data row2 col3\" >-0.010786</td>\n",
       "      <td id=\"T_6aff3_row2_col4\" class=\"data row2 col4\" >0.063271</td>\n",
       "      <td id=\"T_6aff3_row2_col5\" class=\"data row2 col5\" >-0.097297</td>\n",
       "      <td id=\"T_6aff3_row2_col6\" class=\"data row2 col6\" >-0.012604</td>\n",
       "      <td id=\"T_6aff3_row2_col7\" class=\"data row2 col7\" >0.008960</td>\n",
       "      <td id=\"T_6aff3_row2_col8\" class=\"data row2 col8\" >-0.006685</td>\n",
       "      <td id=\"T_6aff3_row2_col9\" class=\"data row2 col9\" >0.336606</td>\n",
       "    </tr>\n",
       "    <tr>\n",
       "      <th id=\"T_6aff3_level0_row3\" class=\"row_heading level0 row3\" >Tenure</th>\n",
       "      <td id=\"T_6aff3_row3_col0\" class=\"data row3 col0\" >-0.002053</td>\n",
       "      <td id=\"T_6aff3_row3_col1\" class=\"data row3 col1\" >0.000950</td>\n",
       "      <td id=\"T_6aff3_row3_col2\" class=\"data row3 col2\" >-0.010786</td>\n",
       "      <td id=\"T_6aff3_row3_col3\" class=\"data row3 col3\" >1.000000</td>\n",
       "      <td id=\"T_6aff3_row3_col4\" class=\"data row3 col4\" >-0.009642</td>\n",
       "      <td id=\"T_6aff3_row3_col5\" class=\"data row3 col5\" >0.007707</td>\n",
       "      <td id=\"T_6aff3_row3_col6\" class=\"data row3 col6\" >0.006412</td>\n",
       "      <td id=\"T_6aff3_row3_col7\" class=\"data row3 col7\" >-0.006868</td>\n",
       "      <td id=\"T_6aff3_row3_col8\" class=\"data row3 col8\" >0.001455</td>\n",
       "      <td id=\"T_6aff3_row3_col9\" class=\"data row3 col9\" >-0.019244</td>\n",
       "    </tr>\n",
       "    <tr>\n",
       "      <th id=\"T_6aff3_level0_row4\" class=\"row_heading level0 row4\" >Balance</th>\n",
       "      <td id=\"T_6aff3_row4_col0\" class=\"data row4 col0\" >-0.008836</td>\n",
       "      <td id=\"T_6aff3_row4_col1\" class=\"data row4 col1\" >0.005592</td>\n",
       "      <td id=\"T_6aff3_row4_col2\" class=\"data row4 col2\" >0.063271</td>\n",
       "      <td id=\"T_6aff3_row4_col3\" class=\"data row4 col3\" >-0.009642</td>\n",
       "      <td id=\"T_6aff3_row4_col4\" class=\"data row4 col4\" >1.000000</td>\n",
       "      <td id=\"T_6aff3_row4_col5\" class=\"data row4 col5\" >-0.357267</td>\n",
       "      <td id=\"T_6aff3_row4_col6\" class=\"data row4 col6\" >-0.020303</td>\n",
       "      <td id=\"T_6aff3_row4_col7\" class=\"data row4 col7\" >-0.014139</td>\n",
       "      <td id=\"T_6aff3_row4_col8\" class=\"data row4 col8\" >0.004402</td>\n",
       "      <td id=\"T_6aff3_row4_col9\" class=\"data row4 col9\" >0.128389</td>\n",
       "    </tr>\n",
       "    <tr>\n",
       "      <th id=\"T_6aff3_level0_row5\" class=\"row_heading level0 row5\" >NumOfProducts</th>\n",
       "      <td id=\"T_6aff3_row5_col0\" class=\"data row5 col0\" >0.005178</td>\n",
       "      <td id=\"T_6aff3_row5_col1\" class=\"data row5 col1\" >0.011605</td>\n",
       "      <td id=\"T_6aff3_row5_col2\" class=\"data row5 col2\" >-0.097297</td>\n",
       "      <td id=\"T_6aff3_row5_col3\" class=\"data row5 col3\" >0.007707</td>\n",
       "      <td id=\"T_6aff3_row5_col4\" class=\"data row5 col4\" >-0.357267</td>\n",
       "      <td id=\"T_6aff3_row5_col5\" class=\"data row5 col5\" >1.000000</td>\n",
       "      <td id=\"T_6aff3_row5_col6\" class=\"data row5 col6\" >0.005612</td>\n",
       "      <td id=\"T_6aff3_row5_col7\" class=\"data row5 col7\" >0.037827</td>\n",
       "      <td id=\"T_6aff3_row5_col8\" class=\"data row5 col8\" >-0.002422</td>\n",
       "      <td id=\"T_6aff3_row5_col9\" class=\"data row5 col9\" >-0.204509</td>\n",
       "    </tr>\n",
       "    <tr>\n",
       "      <th id=\"T_6aff3_level0_row6\" class=\"row_heading level0 row6\" >HasCrCard</th>\n",
       "      <td id=\"T_6aff3_row6_col0\" class=\"data row6 col0\" >-0.005875</td>\n",
       "      <td id=\"T_6aff3_row6_col1\" class=\"data row6 col1\" >-0.002607</td>\n",
       "      <td id=\"T_6aff3_row6_col2\" class=\"data row6 col2\" >-0.012604</td>\n",
       "      <td id=\"T_6aff3_row6_col3\" class=\"data row6 col3\" >0.006412</td>\n",
       "      <td id=\"T_6aff3_row6_col4\" class=\"data row6 col4\" >-0.020303</td>\n",
       "      <td id=\"T_6aff3_row6_col5\" class=\"data row6 col5\" >0.005612</td>\n",
       "      <td id=\"T_6aff3_row6_col6\" class=\"data row6 col6\" >1.000000</td>\n",
       "      <td id=\"T_6aff3_row6_col7\" class=\"data row6 col7\" >-0.020682</td>\n",
       "      <td id=\"T_6aff3_row6_col8\" class=\"data row6 col8\" >0.004936</td>\n",
       "      <td id=\"T_6aff3_row6_col9\" class=\"data row6 col9\" >-0.021122</td>\n",
       "    </tr>\n",
       "    <tr>\n",
       "      <th id=\"T_6aff3_level0_row7\" class=\"row_heading level0 row7\" >IsActiveMember</th>\n",
       "      <td id=\"T_6aff3_row7_col0\" class=\"data row7 col0\" >-0.002693</td>\n",
       "      <td id=\"T_6aff3_row7_col1\" class=\"data row7 col1\" >0.015358</td>\n",
       "      <td id=\"T_6aff3_row7_col2\" class=\"data row7 col2\" >0.008960</td>\n",
       "      <td id=\"T_6aff3_row7_col3\" class=\"data row7 col3\" >-0.006868</td>\n",
       "      <td id=\"T_6aff3_row7_col4\" class=\"data row7 col4\" >-0.014139</td>\n",
       "      <td id=\"T_6aff3_row7_col5\" class=\"data row7 col5\" >0.037827</td>\n",
       "      <td id=\"T_6aff3_row7_col6\" class=\"data row7 col6\" >-0.020682</td>\n",
       "      <td id=\"T_6aff3_row7_col7\" class=\"data row7 col7\" >1.000000</td>\n",
       "      <td id=\"T_6aff3_row7_col8\" class=\"data row7 col8\" >-0.008713</td>\n",
       "      <td id=\"T_6aff3_row7_col9\" class=\"data row7 col9\" >-0.207205</td>\n",
       "    </tr>\n",
       "    <tr>\n",
       "      <th id=\"T_6aff3_level0_row8\" class=\"row_heading level0 row8\" >EstimatedSalary</th>\n",
       "      <td id=\"T_6aff3_row8_col0\" class=\"data row8 col0\" >0.003875</td>\n",
       "      <td id=\"T_6aff3_row8_col1\" class=\"data row8 col1\" >-0.000791</td>\n",
       "      <td id=\"T_6aff3_row8_col2\" class=\"data row8 col2\" >-0.006685</td>\n",
       "      <td id=\"T_6aff3_row8_col3\" class=\"data row8 col3\" >0.001455</td>\n",
       "      <td id=\"T_6aff3_row8_col4\" class=\"data row8 col4\" >0.004402</td>\n",
       "      <td id=\"T_6aff3_row8_col5\" class=\"data row8 col5\" >-0.002422</td>\n",
       "      <td id=\"T_6aff3_row8_col6\" class=\"data row8 col6\" >0.004936</td>\n",
       "      <td id=\"T_6aff3_row8_col7\" class=\"data row8 col7\" >-0.008713</td>\n",
       "      <td id=\"T_6aff3_row8_col8\" class=\"data row8 col8\" >1.000000</td>\n",
       "      <td id=\"T_6aff3_row8_col9\" class=\"data row8 col9\" >0.018598</td>\n",
       "    </tr>\n",
       "    <tr>\n",
       "      <th id=\"T_6aff3_level0_row9\" class=\"row_heading level0 row9\" >Exited</th>\n",
       "      <td id=\"T_6aff3_row9_col0\" class=\"data row9 col0\" >-0.009723</td>\n",
       "      <td id=\"T_6aff3_row9_col1\" class=\"data row9 col1\" >-0.027241</td>\n",
       "      <td id=\"T_6aff3_row9_col2\" class=\"data row9 col2\" >0.336606</td>\n",
       "      <td id=\"T_6aff3_row9_col3\" class=\"data row9 col3\" >-0.019244</td>\n",
       "      <td id=\"T_6aff3_row9_col4\" class=\"data row9 col4\" >0.128389</td>\n",
       "      <td id=\"T_6aff3_row9_col5\" class=\"data row9 col5\" >-0.204509</td>\n",
       "      <td id=\"T_6aff3_row9_col6\" class=\"data row9 col6\" >-0.021122</td>\n",
       "      <td id=\"T_6aff3_row9_col7\" class=\"data row9 col7\" >-0.207205</td>\n",
       "      <td id=\"T_6aff3_row9_col8\" class=\"data row9 col8\" >0.018598</td>\n",
       "      <td id=\"T_6aff3_row9_col9\" class=\"data row9 col9\" >1.000000</td>\n",
       "    </tr>\n",
       "  </tbody>\n",
       "</table>\n"
      ],
      "text/plain": [
       "<pandas.io.formats.style.Styler at 0x7f5bd11e7e80>"
      ]
     },
     "execution_count": 61,
     "metadata": {},
     "output_type": "execute_result"
    }
   ],
   "source": [
    "corr = numeric_data.corr()\n",
    "corr.style.background_gradient(cmap='coolwarm')"
   ]
  },
  {
   "cell_type": "markdown",
   "metadata": {},
   "source": [
    "#### The following 3 correclations are espsecially noticeable and seem to have a strong impact on the likelihood of a customer choosing to exit or remain with the service.\n",
    "\n",
    "#### **Age - Exited** *↗ Positive Correlation*: As a customers age rises, so does the likelihood of them leaving the service.\n",
    "#### **NumOfProducts - Exited** *↘ Negative Correlation*: If a customer owns more proudcts, it's less likely that they will leave.\n",
    "#### **IsActiveMember - Exited** *↘ Negative Correlation*: If a customer is more active, it's less likely that they will leave."
   ]
  },
  {
   "cell_type": "markdown",
   "metadata": {},
   "source": [
    "## 4. Data Preprocessing"
   ]
  },
  {
   "cell_type": "markdown",
   "metadata": {},
   "source": []
  }
 ],
 "metadata": {
  "kernelspec": {
   "display_name": "kaggle_comp",
   "language": "python",
   "name": "python3"
  },
  "language_info": {
   "codemirror_mode": {
    "name": "ipython",
    "version": 3
   },
   "file_extension": ".py",
   "mimetype": "text/x-python",
   "name": "python",
   "nbconvert_exporter": "python",
   "pygments_lexer": "ipython3",
   "version": "3.10.6"
  }
 },
 "nbformat": 4,
 "nbformat_minor": 2
}
